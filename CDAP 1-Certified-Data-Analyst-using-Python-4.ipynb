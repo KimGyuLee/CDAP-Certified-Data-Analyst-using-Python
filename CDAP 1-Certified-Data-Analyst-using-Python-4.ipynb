{
 "cells": [
  {
   "cell_type": "markdown",
   "metadata": {},
   "source": [
    "## CDAPⅠ-Certified-Data-Analyst-using-Python-4"
   ]
  },
  {
   "cell_type": "code",
   "execution_count": 1,
   "metadata": {},
   "outputs": [],
   "source": [
    "import pandas as pd \n",
    "import numpy as np\n",
    "\n",
    "from scipy import stats"
   ]
  },
  {
   "cell_type": "markdown",
   "metadata": {},
   "source": [
    "#### 1. S 회사의 인사부서 직무능력 평가가 평균 73점이 나왔다. \n",
    "#### 같은 시험을 본 사원 A씨의 직무능력 평가 점수가 81점일 때, A사원의 점수가 인사부서의 평균보다 높은지 가설검정을 실시하시오. \n",
    "#### (모집단의 표준편차는 3점)"
   ]
  },
  {
   "cell_type": "code",
   "execution_count": 2,
   "metadata": {},
   "outputs": [],
   "source": [
    "import scipy as sp\n",
    "import scipy.stats as st"
   ]
  },
  {
   "cell_type": "code",
   "execution_count": 3,
   "metadata": {},
   "outputs": [
    {
     "name": "stdout",
     "output_type": "stream",
     "text": [
      "z score:  46.18802153517006\n"
     ]
    }
   ],
   "source": [
    "xbar = 81\n",
    "mu = 73\n",
    "n = 100\n",
    "sigma = 3\n",
    "\n",
    "z = (xbar - mu) / np.sqrt(sigma / n)\n",
    "print('z score: ', z)"
   ]
  },
  {
   "cell_type": "code",
   "execution_count": 4,
   "metadata": {},
   "outputs": [
    {
     "name": "stdout",
     "output_type": "stream",
     "text": [
      "p-value:  0.0\n"
     ]
    }
   ],
   "source": [
    "pval = 2 * (1 - st.norm.cdf(z))\n",
    "print('p-value: ', pval)"
   ]
  },
  {
   "cell_type": "markdown",
   "metadata": {},
   "source": [
    "* 귀무가설 : A사원의 평균과 인사부서의 평균은 같다.\n",
    "* 대립가설 : A사원의 평균이 인사부서의 평균보다 높다.\n",
    "* 통계적 결론 : A사원의 평균이 인사부서의 평균보다 높다.\n",
    "* 사실적 결론 : A사원의 평균이 인사부서의 평균보다 높다."
   ]
  },
  {
   "cell_type": "markdown",
   "metadata": {},
   "source": [
    "#### 2. P 회사의 PCB 공정에서 품질검사를 실시해 평균 불량률을 구했는데, 0.03 이 나왔다. \n",
    "#### P 회사에서 같은 공정에서 새로운 장비를 도입하여, 공정 불량률을 측정했을때, 아래와 같이 도출되었다. \n",
    "#### 새로운 장비의 도입이 불량률을 개선하였는지 가설검정을 실시하시오."
   ]
  },
  {
   "cell_type": "code",
   "execution_count": 5,
   "metadata": {},
   "outputs": [],
   "source": [
    "data = [0.01,0.003,0.031,0.02,0.017,0.04,0.001,0.03,0.023]"
   ]
  },
  {
   "cell_type": "code",
   "execution_count": 6,
   "metadata": {},
   "outputs": [],
   "source": [
    "from scipy.stats import ttest_1samp\n",
    "\n",
    "t_result = stats.ttest_1samp(data, 0.03)\n",
    "t, p = t_result.statistic.round(3), t_result.pvalue.round(3)"
   ]
  },
  {
   "cell_type": "code",
   "execution_count": 7,
   "metadata": {},
   "outputs": [
    {
     "name": "stdout",
     "output_type": "stream",
     "text": [
      "t-statistic:  -2.406\n",
      "p-value:  0.043\n"
     ]
    }
   ],
   "source": [
    "print('t-statistic: ', t)\n",
    "print('p-value: ', p)"
   ]
  },
  {
   "cell_type": "markdown",
   "metadata": {},
   "source": [
    "p-value가 0.05보다 작으므로 귀무가설을 기각하고 대립가설을 채택한다."
   ]
  },
  {
   "cell_type": "markdown",
   "metadata": {},
   "source": [
    "* 귀무가설 : 새로운 장비 도입 후 불량률의 평균은 도입 전 불량률의 평균과 같다.\n",
    "* 대립가설 : 새로운 장비 도입 후 불량률의 평균은 도입 전 불량률의 평균보다 낮다.\n",
    "* 통계적 결론 : 새로운 장비 도입 후 불량률의 평균은 도입 전 불량률의 평균보다 낮다. 즉, 새로운 장비의 도입은 불량률을 개선하였다.\n",
    "* 사실적 결론 : 새로운 장비 도입 후 불량률의 평균은 도입 전 불량률의 평균보다 낮다. 즉, 새로운 장비의 도입은 불량률을 개선하였다."
   ]
  },
  {
   "cell_type": "markdown",
   "metadata": {},
   "source": [
    "#### 3. P 회사의 PCB 공정에서 공정 타입 별로 공정 시간(ms)의 차이가 있는지 가설검정을 실시하시오. (유의수준 α=0.05)"
   ]
  },
  {
   "cell_type": "code",
   "execution_count": 8,
   "metadata": {},
   "outputs": [
    {
     "name": "stdout",
     "output_type": "stream",
     "text": [
      "(9, 3)\n"
     ]
    },
    {
     "data": {
      "text/html": [
       "<div>\n",
       "<style scoped>\n",
       "    .dataframe tbody tr th:only-of-type {\n",
       "        vertical-align: middle;\n",
       "    }\n",
       "\n",
       "    .dataframe tbody tr th {\n",
       "        vertical-align: top;\n",
       "    }\n",
       "\n",
       "    .dataframe thead th {\n",
       "        text-align: right;\n",
       "    }\n",
       "</style>\n",
       "<table border=\"1\" class=\"dataframe\">\n",
       "  <thead>\n",
       "    <tr style=\"text-align: right;\">\n",
       "      <th></th>\n",
       "      <th>Etching</th>\n",
       "      <th>Lithography</th>\n",
       "      <th>Development</th>\n",
       "    </tr>\n",
       "  </thead>\n",
       "  <tbody>\n",
       "    <tr>\n",
       "      <th>0</th>\n",
       "      <td>0.010</td>\n",
       "      <td>0.013</td>\n",
       "      <td>0.077</td>\n",
       "    </tr>\n",
       "    <tr>\n",
       "      <th>1</th>\n",
       "      <td>0.050</td>\n",
       "      <td>0.054</td>\n",
       "      <td>0.012</td>\n",
       "    </tr>\n",
       "    <tr>\n",
       "      <th>2</th>\n",
       "      <td>0.110</td>\n",
       "      <td>0.091</td>\n",
       "      <td>0.110</td>\n",
       "    </tr>\n",
       "    <tr>\n",
       "      <th>3</th>\n",
       "      <td>0.075</td>\n",
       "      <td>0.045</td>\n",
       "      <td>0.025</td>\n",
       "    </tr>\n",
       "    <tr>\n",
       "      <th>4</th>\n",
       "      <td>0.021</td>\n",
       "      <td>0.081</td>\n",
       "      <td>0.021</td>\n",
       "    </tr>\n",
       "    <tr>\n",
       "      <th>5</th>\n",
       "      <td>0.055</td>\n",
       "      <td>0.075</td>\n",
       "      <td>0.045</td>\n",
       "    </tr>\n",
       "    <tr>\n",
       "      <th>6</th>\n",
       "      <td>0.001</td>\n",
       "      <td>0.061</td>\n",
       "      <td>0.031</td>\n",
       "    </tr>\n",
       "    <tr>\n",
       "      <th>7</th>\n",
       "      <td>0.033</td>\n",
       "      <td>0.083</td>\n",
       "      <td>0.033</td>\n",
       "    </tr>\n",
       "    <tr>\n",
       "      <th>8</th>\n",
       "      <td>0.098</td>\n",
       "      <td>0.094</td>\n",
       "      <td>0.092</td>\n",
       "    </tr>\n",
       "  </tbody>\n",
       "</table>\n",
       "</div>"
      ],
      "text/plain": [
       "   Etching  Lithography  Development\n",
       "0    0.010        0.013        0.077\n",
       "1    0.050        0.054        0.012\n",
       "2    0.110        0.091        0.110\n",
       "3    0.075        0.045        0.025\n",
       "4    0.021        0.081        0.021\n",
       "5    0.055        0.075        0.045\n",
       "6    0.001        0.061        0.031\n",
       "7    0.033        0.083        0.033\n",
       "8    0.098        0.094        0.092"
      ]
     },
     "execution_count": 8,
     "metadata": {},
     "output_type": "execute_result"
    }
   ],
   "source": [
    "df1 = pd.DataFrame(\n",
    "    {'Etching':[0.01,0.05,0.11,0.075,0.021,0.055,0.001,0.033,0.098],\n",
    "     'Lithography':[0.013,0.054,0.091,0.045,0.081,0.075,0.061,0.083,0.094],\n",
    "     'Development':[0.077,0.012,0.11,0.025,0.021,0.045,0.031,0.033,0.092]})\n",
    "print(df1.shape)\n",
    "df1"
   ]
  },
  {
   "cell_type": "code",
   "execution_count": 9,
   "metadata": {},
   "outputs": [
    {
     "name": "stdout",
     "output_type": "stream",
     "text": [
      "f-statistic:  [0.723]\n",
      "p-value:  [0.495]\n"
     ]
    }
   ],
   "source": [
    "df_e = df1[['Etching']]\n",
    "df_l = df1[['Lithography']]\n",
    "df_d = df1[['Development']]\n",
    "\n",
    "f_result = stats.f_oneway(df_e, df_l, df_d)\n",
    "f, p = f_result.statistic.round(3), f_result.pvalue.round(3)\n",
    "\n",
    "print('f-statistic: ', f)\n",
    "print('p-value: ', p)"
   ]
  },
  {
   "cell_type": "markdown",
   "metadata": {},
   "source": [
    "p-value가 0.05보다 크므로 귀무가설을 채택한다."
   ]
  },
  {
   "cell_type": "markdown",
   "metadata": {},
   "source": [
    "* 귀무가설 : 공정 타입 별로 공정시간의 차이가 없다. (모든 공정 타입의 공정시간의 평균은 같다.)\n",
    "* 대립가설 : 적어도 하나는 공정 타입별 공정시간의 차이가 있다.\n",
    "* 통계적 결론 : 공정 타입 별로 공정시간의 차이가 없다.\n",
    "* 사실적 결론 : 아래와 같이 실제 평균을 구해보면 공정 타입 별로 공정시간의 평균의 차이가 존재한다."
   ]
  },
  {
   "cell_type": "code",
   "execution_count": 10,
   "metadata": {},
   "outputs": [
    {
     "name": "stdout",
     "output_type": "stream",
     "text": [
      "Etching    0.050333\n",
      "dtype: float64\n",
      "Lithography    0.066333\n",
      "dtype: float64\n",
      "Development    0.049556\n",
      "dtype: float64\n"
     ]
    }
   ],
   "source": [
    "print(df_e.mean())\n",
    "print(df_l.mean())\n",
    "print(df_d.mean())"
   ]
  },
  {
   "cell_type": "markdown",
   "metadata": {},
   "source": [
    "#### 4. 쇼핑몰을 운영하고 있는 'I' 회사에서, 온라인 마케팅을 실시하였다. \n",
    "#### 대표적인 두 채널(인스타그램/페이스북)의 시간 별 유입수를 추출하였다. \n",
    "#### 두 채널의 모평균에 차이 있는지 가설검정을 실시하시오. (유의수준 α = 0.05)"
   ]
  },
  {
   "cell_type": "code",
   "execution_count": 11,
   "metadata": {},
   "outputs": [
    {
     "name": "stdout",
     "output_type": "stream",
     "text": [
      "(13, 3)\n"
     ]
    },
    {
     "data": {
      "text/html": [
       "<div>\n",
       "<style scoped>\n",
       "    .dataframe tbody tr th:only-of-type {\n",
       "        vertical-align: middle;\n",
       "    }\n",
       "\n",
       "    .dataframe tbody tr th {\n",
       "        vertical-align: top;\n",
       "    }\n",
       "\n",
       "    .dataframe thead th {\n",
       "        text-align: right;\n",
       "    }\n",
       "</style>\n",
       "<table border=\"1\" class=\"dataframe\">\n",
       "  <thead>\n",
       "    <tr style=\"text-align: right;\">\n",
       "      <th></th>\n",
       "      <th>time</th>\n",
       "      <th>instargram</th>\n",
       "      <th>facebook</th>\n",
       "    </tr>\n",
       "  </thead>\n",
       "  <tbody>\n",
       "    <tr>\n",
       "      <th>0</th>\n",
       "      <td>00</td>\n",
       "      <td>730</td>\n",
       "      <td>630</td>\n",
       "    </tr>\n",
       "    <tr>\n",
       "      <th>1</th>\n",
       "      <td>01</td>\n",
       "      <td>703</td>\n",
       "      <td>696</td>\n",
       "    </tr>\n",
       "    <tr>\n",
       "      <th>2</th>\n",
       "      <td>02</td>\n",
       "      <td>302</td>\n",
       "      <td>354</td>\n",
       "    </tr>\n",
       "    <tr>\n",
       "      <th>3</th>\n",
       "      <td>03</td>\n",
       "      <td>101</td>\n",
       "      <td>130</td>\n",
       "    </tr>\n",
       "    <tr>\n",
       "      <th>4</th>\n",
       "      <td>04</td>\n",
       "      <td>80</td>\n",
       "      <td>123</td>\n",
       "    </tr>\n",
       "    <tr>\n",
       "      <th>5</th>\n",
       "      <td>05</td>\n",
       "      <td>45</td>\n",
       "      <td>64</td>\n",
       "    </tr>\n",
       "    <tr>\n",
       "      <th>6</th>\n",
       "      <td>06</td>\n",
       "      <td>50</td>\n",
       "      <td>56</td>\n",
       "    </tr>\n",
       "    <tr>\n",
       "      <th>7</th>\n",
       "      <td>07</td>\n",
       "      <td>60</td>\n",
       "      <td>48</td>\n",
       "    </tr>\n",
       "    <tr>\n",
       "      <th>8</th>\n",
       "      <td>08</td>\n",
       "      <td>75</td>\n",
       "      <td>33</td>\n",
       "    </tr>\n",
       "    <tr>\n",
       "      <th>9</th>\n",
       "      <td>09</td>\n",
       "      <td>55</td>\n",
       "      <td>99</td>\n",
       "    </tr>\n",
       "    <tr>\n",
       "      <th>10</th>\n",
       "      <td>10</td>\n",
       "      <td>240</td>\n",
       "      <td>89</td>\n",
       "    </tr>\n",
       "    <tr>\n",
       "      <th>11</th>\n",
       "      <td>11</td>\n",
       "      <td>134</td>\n",
       "      <td>85</td>\n",
       "    </tr>\n",
       "    <tr>\n",
       "      <th>12</th>\n",
       "      <td>12</td>\n",
       "      <td>342</td>\n",
       "      <td>342</td>\n",
       "    </tr>\n",
       "  </tbody>\n",
       "</table>\n",
       "</div>"
      ],
      "text/plain": [
       "   time  instargram  facebook\n",
       "0    00         730       630\n",
       "1    01         703       696\n",
       "2    02         302       354\n",
       "3    03         101       130\n",
       "4    04          80       123\n",
       "5    05          45        64\n",
       "6    06          50        56\n",
       "7    07          60        48\n",
       "8    08          75        33\n",
       "9    09          55        99\n",
       "10   10         240        89\n",
       "11   11         134        85\n",
       "12   12         342       342"
      ]
     },
     "execution_count": 11,
     "metadata": {},
     "output_type": "execute_result"
    }
   ],
   "source": [
    "df1 = pd.DataFrame(\n",
    "    {'time':['00','01','02','03','04','05','06','07','08','09','10','11','12'],\n",
    "     'instargram':[730,703,302,101,80,45,50,60,75,55,240,134,342],\n",
    "     'facebook':[630,696,354,130,123,64,56,48,33,99,89,85,342]})\n",
    "print(df1.shape)\n",
    "df1"
   ]
  },
  {
   "cell_type": "code",
   "execution_count": 12,
   "metadata": {},
   "outputs": [
    {
     "data": {
      "text/html": [
       "<div>\n",
       "<style scoped>\n",
       "    .dataframe tbody tr th:only-of-type {\n",
       "        vertical-align: middle;\n",
       "    }\n",
       "\n",
       "    .dataframe tbody tr th {\n",
       "        vertical-align: top;\n",
       "    }\n",
       "\n",
       "    .dataframe thead th {\n",
       "        text-align: right;\n",
       "    }\n",
       "</style>\n",
       "<table border=\"1\" class=\"dataframe\">\n",
       "  <thead>\n",
       "    <tr style=\"text-align: right;\">\n",
       "      <th></th>\n",
       "      <th>facebook</th>\n",
       "      <th>instargram</th>\n",
       "    </tr>\n",
       "    <tr>\n",
       "      <th>time</th>\n",
       "      <th></th>\n",
       "      <th></th>\n",
       "    </tr>\n",
       "  </thead>\n",
       "  <tbody>\n",
       "    <tr>\n",
       "      <th>00</th>\n",
       "      <td>630</td>\n",
       "      <td>730</td>\n",
       "    </tr>\n",
       "    <tr>\n",
       "      <th>01</th>\n",
       "      <td>696</td>\n",
       "      <td>703</td>\n",
       "    </tr>\n",
       "    <tr>\n",
       "      <th>02</th>\n",
       "      <td>354</td>\n",
       "      <td>302</td>\n",
       "    </tr>\n",
       "    <tr>\n",
       "      <th>03</th>\n",
       "      <td>130</td>\n",
       "      <td>101</td>\n",
       "    </tr>\n",
       "    <tr>\n",
       "      <th>04</th>\n",
       "      <td>123</td>\n",
       "      <td>80</td>\n",
       "    </tr>\n",
       "    <tr>\n",
       "      <th>05</th>\n",
       "      <td>64</td>\n",
       "      <td>45</td>\n",
       "    </tr>\n",
       "    <tr>\n",
       "      <th>06</th>\n",
       "      <td>56</td>\n",
       "      <td>50</td>\n",
       "    </tr>\n",
       "    <tr>\n",
       "      <th>07</th>\n",
       "      <td>48</td>\n",
       "      <td>60</td>\n",
       "    </tr>\n",
       "    <tr>\n",
       "      <th>08</th>\n",
       "      <td>33</td>\n",
       "      <td>75</td>\n",
       "    </tr>\n",
       "    <tr>\n",
       "      <th>09</th>\n",
       "      <td>99</td>\n",
       "      <td>55</td>\n",
       "    </tr>\n",
       "    <tr>\n",
       "      <th>10</th>\n",
       "      <td>89</td>\n",
       "      <td>240</td>\n",
       "    </tr>\n",
       "    <tr>\n",
       "      <th>11</th>\n",
       "      <td>85</td>\n",
       "      <td>134</td>\n",
       "    </tr>\n",
       "    <tr>\n",
       "      <th>12</th>\n",
       "      <td>342</td>\n",
       "      <td>342</td>\n",
       "    </tr>\n",
       "  </tbody>\n",
       "</table>\n",
       "</div>"
      ],
      "text/plain": [
       "      facebook  instargram\n",
       "time                      \n",
       "00         630         730\n",
       "01         696         703\n",
       "02         354         302\n",
       "03         130         101\n",
       "04         123          80\n",
       "05          64          45\n",
       "06          56          50\n",
       "07          48          60\n",
       "08          33          75\n",
       "09          99          55\n",
       "10          89         240\n",
       "11          85         134\n",
       "12         342         342"
      ]
     },
     "execution_count": 12,
     "metadata": {},
     "output_type": "execute_result"
    }
   ],
   "source": [
    "df_chi = pd.pivot_table(df1, index='time')\n",
    "df_chi"
   ]
  },
  {
   "cell_type": "code",
   "execution_count": 13,
   "metadata": {},
   "outputs": [
    {
     "name": "stdout",
     "output_type": "stream",
     "text": [
      "chisq:133.552\n",
      "p-value:0.000\n"
     ]
    }
   ],
   "source": [
    "chi, pval, dof, expected = stats.chi2_contingency(df_chi.T)\n",
    "\n",
    "print('chisq:{0:0.3f}'.format(chi))\n",
    "print('p-value:{0:0.3f}'.format(pval))"
   ]
  },
  {
   "cell_type": "markdown",
   "metadata": {},
   "source": [
    "p-value가 0.05보다 작으므로 대립가설을 채택한다."
   ]
  },
  {
   "cell_type": "markdown",
   "metadata": {},
   "source": [
    "* 귀무가설 : 채널별로 시간별 유입수의 차이가 없다.\n",
    "* 대립가설 : 채널별로 시간별 유입수의 차이가 있다.\n",
    "* 통계적 결론 : 채널별로 시간별 유입수의 차이가 있다.\n",
    "* 사실적 결론 : 채널별로 시간별 유입수의 차이가 있다."
   ]
  },
  {
   "cell_type": "markdown",
   "metadata": {},
   "source": [
    "#### 아래 Example 파일을 이용하여 통계분석을 실시 하시오."
   ]
  },
  {
   "cell_type": "code",
   "execution_count": 14,
   "metadata": {},
   "outputs": [
    {
     "name": "stdout",
     "output_type": "stream",
     "text": [
      "(10000, 10)\n"
     ]
    },
    {
     "data": {
      "text/html": [
       "<div>\n",
       "<style scoped>\n",
       "    .dataframe tbody tr th:only-of-type {\n",
       "        vertical-align: middle;\n",
       "    }\n",
       "\n",
       "    .dataframe tbody tr th {\n",
       "        vertical-align: top;\n",
       "    }\n",
       "\n",
       "    .dataframe thead th {\n",
       "        text-align: right;\n",
       "    }\n",
       "</style>\n",
       "<table border=\"1\" class=\"dataframe\">\n",
       "  <thead>\n",
       "    <tr style=\"text-align: right;\">\n",
       "      <th></th>\n",
       "      <th>회원코드</th>\n",
       "      <th>프로그램</th>\n",
       "      <th>상태</th>\n",
       "      <th>프로그램가격</th>\n",
       "      <th>최종결제금액</th>\n",
       "      <th>결제시각</th>\n",
       "      <th>결제유형</th>\n",
       "      <th>채널</th>\n",
       "      <th>보조식품가격</th>\n",
       "      <th>보조식품(추가구매)</th>\n",
       "    </tr>\n",
       "  </thead>\n",
       "  <tbody>\n",
       "    <tr>\n",
       "      <th>0</th>\n",
       "      <td>Y9RY2VSI</td>\n",
       "      <td>체중감량 프로그램 (타입B)</td>\n",
       "      <td>completed</td>\n",
       "      <td>112500</td>\n",
       "      <td>112500</td>\n",
       "      <td>2017-04-14 오후 7:03:29.976000</td>\n",
       "      <td>Recurring</td>\n",
       "      <td>others</td>\n",
       "      <td>0</td>\n",
       "      <td>구매안함</td>\n",
       "    </tr>\n",
       "    <tr>\n",
       "      <th>1</th>\n",
       "      <td>3GTN3S3B</td>\n",
       "      <td>체중감량 프로그램 (타입B)</td>\n",
       "      <td>completed</td>\n",
       "      <td>44780</td>\n",
       "      <td>44780</td>\n",
       "      <td>2017-05-23 오후 8:53:54.368000</td>\n",
       "      <td>Recurring</td>\n",
       "      <td>others</td>\n",
       "      <td>0</td>\n",
       "      <td>구매안함</td>\n",
       "    </tr>\n",
       "    <tr>\n",
       "      <th>2</th>\n",
       "      <td>6B0IG276</td>\n",
       "      <td>체중감량 프로그램 (타입 A)</td>\n",
       "      <td>completed</td>\n",
       "      <td>132000</td>\n",
       "      <td>149000</td>\n",
       "      <td>2017-08-23 오후 11:39:21.840000</td>\n",
       "      <td>Recurring</td>\n",
       "      <td>facebook</td>\n",
       "      <td>17000</td>\n",
       "      <td>식이요법보조제A</td>\n",
       "    </tr>\n",
       "  </tbody>\n",
       "</table>\n",
       "</div>"
      ],
      "text/plain": [
       "       회원코드              프로그램         상태  프로그램가격  최종결제금액  \\\n",
       "0  Y9RY2VSI   체중감량 프로그램 (타입B)  completed  112500  112500   \n",
       "1  3GTN3S3B   체중감량 프로그램 (타입B)  completed   44780   44780   \n",
       "2  6B0IG276  체중감량 프로그램 (타입 A)  completed  132000  149000   \n",
       "\n",
       "                            결제시각       결제유형        채널  보조식품가격 보조식품(추가구매)  \n",
       "0   2017-04-14 오후 7:03:29.976000  Recurring    others       0       구매안함  \n",
       "1   2017-05-23 오후 8:53:54.368000  Recurring    others       0       구매안함  \n",
       "2  2017-08-23 오후 11:39:21.840000  Recurring  facebook   17000   식이요법보조제A  "
      ]
     },
     "execution_count": 14,
     "metadata": {},
     "output_type": "execute_result"
    }
   ],
   "source": [
    "df1 = pd.read_csv('4_data.csv')\n",
    "print(df1.shape)\n",
    "df1.head(3)"
   ]
  },
  {
   "cell_type": "markdown",
   "metadata": {},
   "source": [
    "#### 5. 위의 데이터에서 각 \"채널\" 별 최종 결제금액의 차이가 있는지 검정하려 한다. \n",
    "#### Pivot_table을 이용하여, 각 채널 별 최종 결제금액의 평균을 계산하시오."
   ]
  },
  {
   "cell_type": "code",
   "execution_count": 15,
   "metadata": {},
   "outputs": [
    {
     "data": {
      "text/html": [
       "<div>\n",
       "<style scoped>\n",
       "    .dataframe tbody tr th:only-of-type {\n",
       "        vertical-align: middle;\n",
       "    }\n",
       "\n",
       "    .dataframe tbody tr th {\n",
       "        vertical-align: top;\n",
       "    }\n",
       "\n",
       "    .dataframe thead th {\n",
       "        text-align: right;\n",
       "    }\n",
       "</style>\n",
       "<table border=\"1\" class=\"dataframe\">\n",
       "  <thead>\n",
       "    <tr style=\"text-align: right;\">\n",
       "      <th></th>\n",
       "      <th>최종결제금액</th>\n",
       "    </tr>\n",
       "    <tr>\n",
       "      <th>채널</th>\n",
       "      <th></th>\n",
       "    </tr>\n",
       "  </thead>\n",
       "  <tbody>\n",
       "    <tr>\n",
       "      <th>direct</th>\n",
       "      <td>105512.323232</td>\n",
       "    </tr>\n",
       "    <tr>\n",
       "      <th>email</th>\n",
       "      <td>113118.376384</td>\n",
       "    </tr>\n",
       "    <tr>\n",
       "      <th>facebook</th>\n",
       "      <td>119932.625000</td>\n",
       "    </tr>\n",
       "    <tr>\n",
       "      <th>google</th>\n",
       "      <td>105529.000000</td>\n",
       "    </tr>\n",
       "    <tr>\n",
       "      <th>instagram</th>\n",
       "      <td>107958.181818</td>\n",
       "    </tr>\n",
       "    <tr>\n",
       "      <th>naver</th>\n",
       "      <td>110497.274529</td>\n",
       "    </tr>\n",
       "    <tr>\n",
       "      <th>others</th>\n",
       "      <td>107445.820144</td>\n",
       "    </tr>\n",
       "  </tbody>\n",
       "</table>\n",
       "</div>"
      ],
      "text/plain": [
       "                  최종결제금액\n",
       "채널                      \n",
       "direct     105512.323232\n",
       "email      113118.376384\n",
       "facebook   119932.625000\n",
       "google     105529.000000\n",
       "instagram  107958.181818\n",
       "naver      110497.274529\n",
       "others     107445.820144"
      ]
     },
     "execution_count": 15,
     "metadata": {},
     "output_type": "execute_result"
    }
   ],
   "source": [
    "df_channe = pd.pivot_table(df1, index='채널', values='최종결제금액', aggfunc=np.mean)\n",
    "df_channel"
   ]
  },
  {
   "cell_type": "markdown",
   "metadata": {},
   "source": [
    "#### 6. 위의 Pivot 결과를 이용하여, Bar Plot 시각화를 실시하시오."
   ]
  },
  {
   "cell_type": "code",
   "execution_count": 16,
   "metadata": {},
   "outputs": [],
   "source": [
    "import seaborn as sns\n",
    "import matplotlib.pyplot as plt\n",
    "import matplotlib as mpl # 그래프옵션\n",
    "\n",
    "# 그래프 시각화 옵션 설정 함수 \n",
    "%matplotlib inline\n",
    "\n",
    "# 그래프 한글설정\n",
    "mpl.rc('font',family = \"Malgun Gothic\")\n",
    "\n",
    "#그래프의 한글을 더욱 선명하게 출력\n",
    "from IPython.display import set_matplotlib_formats\n",
    "set_matplotlib_formats('retina')\n",
    "\n",
    "#그래프에서 음수값이 나올때, 깨지는 현상 방지\n",
    "mpl.rc('axes', unicode_minus =False)"
   ]
  },
  {
   "cell_type": "code",
   "execution_count": 17,
   "metadata": {},
   "outputs": [
    {
     "data": {
      "text/plain": [
       "Text(0, 0.5, 'Mean of Price')"
      ]
     },
     "execution_count": 17,
     "metadata": {},
     "output_type": "execute_result"
    },
    {
     "data": {
      "image/png": "[encoded data removed]",
      "text/plain": [
       "<Figure size 720x360 with 1 Axes>"
      ]
     },
     "metadata": {
      "image/png": {
       "height": 333,
       "width": 626
      },
      "needs_background": "light"
     },
     "output_type": "display_data"
    }
   ],
   "source": [
    "df_channel['최종결제금액'].plot(kind='bar', legend=False, title='Mean of Price by Channel', figsize=(10,5), \n",
    "                          color=['tab:blue','tab:orange','tab:green','tab:red','tab:purple','tab:brown','tab:pink'], \n",
    "                         width=0.8)\n",
    "plt.xticks(rotation=360)\n",
    "plt.xlabel('Channel')\n",
    "plt.ylabel('Mean of Price')"
   ]
  },
  {
   "cell_type": "markdown",
   "metadata": {},
   "source": [
    "#### 7. 각 채널별 최종결제금액 평균의 차이가 있는지 통계적 가설검정을 실시하시오."
   ]
  },
  {
   "cell_type": "code",
   "execution_count": 18,
   "metadata": {},
   "outputs": [
    {
     "data": {
      "text/html": [
       "<div>\n",
       "<style scoped>\n",
       "    .dataframe tbody tr th:only-of-type {\n",
       "        vertical-align: middle;\n",
       "    }\n",
       "\n",
       "    .dataframe tbody tr th {\n",
       "        vertical-align: top;\n",
       "    }\n",
       "\n",
       "    .dataframe thead th {\n",
       "        text-align: right;\n",
       "    }\n",
       "</style>\n",
       "<table border=\"1\" class=\"dataframe\">\n",
       "  <thead>\n",
       "    <tr style=\"text-align: right;\">\n",
       "      <th></th>\n",
       "      <th>채널</th>\n",
       "      <th>최종결제금액</th>\n",
       "    </tr>\n",
       "  </thead>\n",
       "  <tbody>\n",
       "    <tr>\n",
       "      <th>0</th>\n",
       "      <td>others</td>\n",
       "      <td>112500</td>\n",
       "    </tr>\n",
       "    <tr>\n",
       "      <th>1</th>\n",
       "      <td>others</td>\n",
       "      <td>44780</td>\n",
       "    </tr>\n",
       "    <tr>\n",
       "      <th>2</th>\n",
       "      <td>facebook</td>\n",
       "      <td>149000</td>\n",
       "    </tr>\n",
       "    <tr>\n",
       "      <th>3</th>\n",
       "      <td>naver</td>\n",
       "      <td>112500</td>\n",
       "    </tr>\n",
       "    <tr>\n",
       "      <th>4</th>\n",
       "      <td>facebook</td>\n",
       "      <td>44780</td>\n",
       "    </tr>\n",
       "    <tr>\n",
       "      <th>...</th>\n",
       "      <td>...</td>\n",
       "      <td>...</td>\n",
       "    </tr>\n",
       "    <tr>\n",
       "      <th>9995</th>\n",
       "      <td>facebook</td>\n",
       "      <td>112500</td>\n",
       "    </tr>\n",
       "    <tr>\n",
       "      <th>9996</th>\n",
       "      <td>facebook</td>\n",
       "      <td>129500</td>\n",
       "    </tr>\n",
       "    <tr>\n",
       "      <th>9997</th>\n",
       "      <td>facebook</td>\n",
       "      <td>129500</td>\n",
       "    </tr>\n",
       "    <tr>\n",
       "      <th>9998</th>\n",
       "      <td>facebook</td>\n",
       "      <td>129500</td>\n",
       "    </tr>\n",
       "    <tr>\n",
       "      <th>9999</th>\n",
       "      <td>others</td>\n",
       "      <td>112500</td>\n",
       "    </tr>\n",
       "  </tbody>\n",
       "</table>\n",
       "<p>10000 rows × 2 columns</p>\n",
       "</div>"
      ],
      "text/plain": [
       "            채널  최종결제금액\n",
       "0       others  112500\n",
       "1       others   44780\n",
       "2     facebook  149000\n",
       "3        naver  112500\n",
       "4     facebook   44780\n",
       "...        ...     ...\n",
       "9995  facebook  112500\n",
       "9996  facebook  129500\n",
       "9997  facebook  129500\n",
       "9998  facebook  129500\n",
       "9999    others  112500\n",
       "\n",
       "[10000 rows x 2 columns]"
      ]
     },
     "execution_count": 18,
     "metadata": {},
     "output_type": "execute_result"
    }
   ],
   "source": [
    "df_ch1 = df1[['채널', '최종결제금액']]\n",
    "df_ch1"
   ]
  },
  {
   "cell_type": "code",
   "execution_count": 19,
   "metadata": {},
   "outputs": [
    {
     "data": {
      "text/html": [
       "<div>\n",
       "<style scoped>\n",
       "    .dataframe tbody tr th:only-of-type {\n",
       "        vertical-align: middle;\n",
       "    }\n",
       "\n",
       "    .dataframe tbody tr th {\n",
       "        vertical-align: top;\n",
       "    }\n",
       "\n",
       "    .dataframe thead th {\n",
       "        text-align: right;\n",
       "    }\n",
       "</style>\n",
       "<table border=\"1\" class=\"dataframe\">\n",
       "  <thead>\n",
       "    <tr style=\"text-align: right;\">\n",
       "      <th></th>\n",
       "      <th>sum_sq</th>\n",
       "      <th>df</th>\n",
       "      <th>F</th>\n",
       "      <th>PR(&gt;F)</th>\n",
       "    </tr>\n",
       "  </thead>\n",
       "  <tbody>\n",
       "    <tr>\n",
       "      <th>C(채널)</th>\n",
       "      <td>2.871153e+11</td>\n",
       "      <td>6.0</td>\n",
       "      <td>113.525631</td>\n",
       "      <td>4.181449e-139</td>\n",
       "    </tr>\n",
       "    <tr>\n",
       "      <th>Residual</th>\n",
       "      <td>4.212182e+12</td>\n",
       "      <td>9993.0</td>\n",
       "      <td>NaN</td>\n",
       "      <td>NaN</td>\n",
       "    </tr>\n",
       "  </tbody>\n",
       "</table>\n",
       "</div>"
      ],
      "text/plain": [
       "                sum_sq      df           F         PR(>F)\n",
       "C(채널)     2.871153e+11     6.0  113.525631  4.181449e-139\n",
       "Residual  4.212182e+12  9993.0         NaN            NaN"
      ]
     },
     "execution_count": 19,
     "metadata": {},
     "output_type": "execute_result"
    }
   ],
   "source": [
    "import statsmodels.api as sm\n",
    "from statsmodels.formula.api import ols\n",
    "\n",
    "model = ols('최종결제금액 ~ C(채널)', data = df_ch1).fit()\n",
    "anova_table = sm.stats.anova_lm(model, typ=2)\n",
    "anova_table"
   ]
  },
  {
   "cell_type": "markdown",
   "metadata": {},
   "source": [
    "p-value가 0.05보다 작으므로 귀무가설을 기각하고 대립가설을 채택한다."
   ]
  },
  {
   "cell_type": "markdown",
   "metadata": {},
   "source": [
    "* 귀무가설 : 채널별 최종결제금액 평균의 차이가 없다.\n",
    "* 대립가설 : 채널별 최종결제금액 평균의 차이가 있다.\n",
    "* 통계적 결론 : 채널별 최종결제금액 평균의 차이가 있다.\n",
    "* 사실적 결론 : 채널별 최종결제금액 평균의 차이가 있다."
   ]
  },
  {
   "cell_type": "markdown",
   "metadata": {},
   "source": [
    "#### 8. Pivot_table을 이용하여, 각 채널 별 최종 결제금액의 총합을 계산하시오."
   ]
  },
  {
   "cell_type": "code",
   "execution_count": 20,
   "metadata": {},
   "outputs": [
    {
     "data": {
      "text/html": [
       "<div>\n",
       "<style scoped>\n",
       "    .dataframe tbody tr th:only-of-type {\n",
       "        vertical-align: middle;\n",
       "    }\n",
       "\n",
       "    .dataframe tbody tr th {\n",
       "        vertical-align: top;\n",
       "    }\n",
       "\n",
       "    .dataframe thead th {\n",
       "        text-align: right;\n",
       "    }\n",
       "</style>\n",
       "<table border=\"1\" class=\"dataframe\">\n",
       "  <thead>\n",
       "    <tr style=\"text-align: right;\">\n",
       "      <th></th>\n",
       "      <th>최종결제금액</th>\n",
       "    </tr>\n",
       "    <tr>\n",
       "      <th>채널</th>\n",
       "      <th></th>\n",
       "    </tr>\n",
       "  </thead>\n",
       "  <tbody>\n",
       "    <tr>\n",
       "      <th>direct</th>\n",
       "      <td>31337160</td>\n",
       "    </tr>\n",
       "    <tr>\n",
       "      <th>email</th>\n",
       "      <td>30655080</td>\n",
       "    </tr>\n",
       "    <tr>\n",
       "      <th>facebook</th>\n",
       "      <td>825136460</td>\n",
       "    </tr>\n",
       "    <tr>\n",
       "      <th>google</th>\n",
       "      <td>12663480</td>\n",
       "    </tr>\n",
       "    <tr>\n",
       "      <th>instagram</th>\n",
       "      <td>3562620</td>\n",
       "    </tr>\n",
       "    <tr>\n",
       "      <th>naver</th>\n",
       "      <td>111491750</td>\n",
       "    </tr>\n",
       "    <tr>\n",
       "      <th>others</th>\n",
       "      <td>149349690</td>\n",
       "    </tr>\n",
       "  </tbody>\n",
       "</table>\n",
       "</div>"
      ],
      "text/plain": [
       "              최종결제금액\n",
       "채널                  \n",
       "direct      31337160\n",
       "email       30655080\n",
       "facebook   825136460\n",
       "google      12663480\n",
       "instagram    3562620\n",
       "naver      111491750\n",
       "others     149349690"
      ]
     },
     "execution_count": 20,
     "metadata": {},
     "output_type": "execute_result"
    }
   ],
   "source": [
    "df_channel2 = pd.pivot_table(df1, index='채널', values='최종결제금액', aggfunc=np.sum)\n",
    "df_channel2"
   ]
  },
  {
   "cell_type": "markdown",
   "metadata": {},
   "source": [
    "#### 9. 위의 Pivot 결과를 이용하여, Bar Plot 시각화를 실시하시오."
   ]
  },
  {
   "cell_type": "code",
   "execution_count": 21,
   "metadata": {},
   "outputs": [
    {
     "data": {
      "text/plain": [
       "Text(0, 0.5, 'Sum of Price')"
      ]
     },
     "execution_count": 21,
     "metadata": {},
     "output_type": "execute_result"
    },
    {
     "data": {
      "image/png": "[encoded data removed]",
      "text/plain": [
       "<Figure size 720x360 with 1 Axes>"
      ]
     },
     "metadata": {
      "image/png": {
       "height": 333,
       "width": 599
      },
      "needs_background": "light"
     },
     "output_type": "display_data"
    }
   ],
   "source": [
    "df_channel2['최종결제금액'].plot(kind='bar', legend=False, title='Sum of Price by Channel', figsize=(10,5), \n",
    "                          color=['tab:blue','tab:orange','tab:green','tab:red','tab:purple','tab:brown','tab:pink'], \n",
    "                         width=0.8)\n",
    "plt.xticks(rotation=360)\n",
    "plt.xlabel('Channel')\n",
    "plt.ylabel('Sum of Price')"
   ]
  },
  {
   "cell_type": "markdown",
   "metadata": {},
   "source": [
    "#### 위의 결과를 바탕으로 'Facebook' 채널에 대해 마케팅을 강화하고자 한다. \n",
    "\n",
    "#### 10. 불러온 데이터에서, 'Facebook' 채널에 해당하는 Row만 추출하여, 새로운 데이터 프레임으로 선언하고, 상위 5개 항목에 대해 출력하시오. "
   ]
  },
  {
   "cell_type": "code",
   "execution_count": 22,
   "metadata": {},
   "outputs": [
    {
     "data": {
      "text/html": [
       "<div>\n",
       "<style scoped>\n",
       "    .dataframe tbody tr th:only-of-type {\n",
       "        vertical-align: middle;\n",
       "    }\n",
       "\n",
       "    .dataframe tbody tr th {\n",
       "        vertical-align: top;\n",
       "    }\n",
       "\n",
       "    .dataframe thead th {\n",
       "        text-align: right;\n",
       "    }\n",
       "</style>\n",
       "<table border=\"1\" class=\"dataframe\">\n",
       "  <thead>\n",
       "    <tr style=\"text-align: right;\">\n",
       "      <th></th>\n",
       "      <th>회원코드</th>\n",
       "      <th>프로그램</th>\n",
       "      <th>상태</th>\n",
       "      <th>프로그램가격</th>\n",
       "      <th>최종결제금액</th>\n",
       "      <th>결제시각</th>\n",
       "      <th>결제유형</th>\n",
       "      <th>채널</th>\n",
       "      <th>보조식품가격</th>\n",
       "      <th>보조식품(추가구매)</th>\n",
       "    </tr>\n",
       "  </thead>\n",
       "  <tbody>\n",
       "    <tr>\n",
       "      <th>2</th>\n",
       "      <td>6B0IG276</td>\n",
       "      <td>체중감량 프로그램 (타입 A)</td>\n",
       "      <td>completed</td>\n",
       "      <td>132000</td>\n",
       "      <td>149000</td>\n",
       "      <td>2017-08-23 오후 11:39:21.840000</td>\n",
       "      <td>Recurring</td>\n",
       "      <td>facebook</td>\n",
       "      <td>17000</td>\n",
       "      <td>식이요법보조제A</td>\n",
       "    </tr>\n",
       "    <tr>\n",
       "      <th>4</th>\n",
       "      <td>1ELG96TX</td>\n",
       "      <td>체중감량 프로그램 (타입B)</td>\n",
       "      <td>completed</td>\n",
       "      <td>44780</td>\n",
       "      <td>44780</td>\n",
       "      <td>2017-05-07 오후 5:50:30.944000</td>\n",
       "      <td>Recurring</td>\n",
       "      <td>facebook</td>\n",
       "      <td>0</td>\n",
       "      <td>구매안함</td>\n",
       "    </tr>\n",
       "    <tr>\n",
       "      <th>8</th>\n",
       "      <td>U9AELHAT</td>\n",
       "      <td>체중감량 프로그램 (타입 A)</td>\n",
       "      <td>completed</td>\n",
       "      <td>112500</td>\n",
       "      <td>129500</td>\n",
       "      <td>2017-08-09 오후 3:24:28.296000</td>\n",
       "      <td>Recurring</td>\n",
       "      <td>facebook</td>\n",
       "      <td>17000</td>\n",
       "      <td>식이요법보조제A</td>\n",
       "    </tr>\n",
       "    <tr>\n",
       "      <th>9</th>\n",
       "      <td>BXOWUYDX</td>\n",
       "      <td>체중감량 프로그램 (타입 A)</td>\n",
       "      <td>completed</td>\n",
       "      <td>112500</td>\n",
       "      <td>112500</td>\n",
       "      <td>2017-08-03 오후 9:03:44.352000</td>\n",
       "      <td>Recurring</td>\n",
       "      <td>facebook</td>\n",
       "      <td>0</td>\n",
       "      <td>구매안함</td>\n",
       "    </tr>\n",
       "    <tr>\n",
       "      <th>10</th>\n",
       "      <td>0VRP0TMF</td>\n",
       "      <td>체중감량 프로그램 (타입 A)</td>\n",
       "      <td>cancelled</td>\n",
       "      <td>112500</td>\n",
       "      <td>112500</td>\n",
       "      <td>2017-07-30 오전 9:49:03.624000</td>\n",
       "      <td>Recurring</td>\n",
       "      <td>facebook</td>\n",
       "      <td>0</td>\n",
       "      <td>구매안함</td>\n",
       "    </tr>\n",
       "  </tbody>\n",
       "</table>\n",
       "</div>"
      ],
      "text/plain": [
       "        회원코드              프로그램         상태  프로그램가격  최종결제금액  \\\n",
       "2   6B0IG276  체중감량 프로그램 (타입 A)  completed  132000  149000   \n",
       "4   1ELG96TX   체중감량 프로그램 (타입B)  completed   44780   44780   \n",
       "8   U9AELHAT  체중감량 프로그램 (타입 A)  completed  112500  129500   \n",
       "9   BXOWUYDX  체중감량 프로그램 (타입 A)  completed  112500  112500   \n",
       "10  0VRP0TMF  체중감량 프로그램 (타입 A)  cancelled  112500  112500   \n",
       "\n",
       "                             결제시각       결제유형        채널  보조식품가격 보조식품(추가구매)  \n",
       "2   2017-08-23 오후 11:39:21.840000  Recurring  facebook   17000   식이요법보조제A  \n",
       "4    2017-05-07 오후 5:50:30.944000  Recurring  facebook       0       구매안함  \n",
       "8    2017-08-09 오후 3:24:28.296000  Recurring  facebook   17000   식이요법보조제A  \n",
       "9    2017-08-03 오후 9:03:44.352000  Recurring  facebook       0       구매안함  \n",
       "10   2017-07-30 오전 9:49:03.624000  Recurring  facebook       0       구매안함  "
      ]
     },
     "execution_count": 22,
     "metadata": {},
     "output_type": "execute_result"
    }
   ],
   "source": [
    "df_facebook = df1[df1['채널']=='facebook']\n",
    "df_facebook.head(5)"
   ]
  },
  {
   "cell_type": "markdown",
   "metadata": {},
   "source": [
    "#### 11. 추출된 'facebook' 채널 데이터를 이용하여, 해당 데이터의 '프로그램' Column의 항목 별 Count를 시각화 하시오."
   ]
  },
  {
   "cell_type": "code",
   "execution_count": 23,
   "metadata": {},
   "outputs": [
    {
     "data": {
      "text/plain": [
       "<function matplotlib.pyplot.show(*args, **kw)>"
      ]
     },
     "execution_count": 23,
     "metadata": {},
     "output_type": "execute_result"
    },
    {
     "data": {
      "image/png": "[encoded data removed]",
      "text/plain": [
       "<Figure size 720x360 with 1 Axes>"
      ]
     },
     "metadata": {
      "image/png": {
       "height": 320,
       "width": 615
      },
      "needs_background": "light"
     },
     "output_type": "display_data"
    }
   ],
   "source": [
    "plt.figure(figsize=(10,5))\n",
    "sns.countplot(x='프로그램', data=df_facebook)\n",
    "plt.show"
   ]
  },
  {
   "cell_type": "markdown",
   "metadata": {},
   "source": [
    "#### 12. apply 함수를 활용하여, 전체 데이터의 '결제시각'데이터를 'datetime' 타입으로 변환하시오."
   ]
  },
  {
   "cell_type": "code",
   "execution_count": 24,
   "metadata": {},
   "outputs": [],
   "source": [
    "from datetime import datetime"
   ]
  },
  {
   "cell_type": "code",
   "execution_count": 25,
   "metadata": {},
   "outputs": [],
   "source": [
    "df1['결제시각(clean)'] = df1.결제시각.str[0:4] + df1.결제시각.str[5:7] + df1.결제시각.str[8:10]"
   ]
  },
  {
   "cell_type": "code",
   "execution_count": 26,
   "metadata": {},
   "outputs": [],
   "source": [
    "df1['결제시각(clean)'] = pd.to_datetime(df1['결제시각(clean)'], format = '%Y%m%d').dt.strftime(\"%Y-%m-%d\")"
   ]
  },
  {
   "cell_type": "code",
   "execution_count": 27,
   "metadata": {},
   "outputs": [],
   "source": [
    "df1[\"결제시각(clean)\"] = df1[\"결제시각(clean)\"].astype('datetime64[ns]')"
   ]
  },
  {
   "cell_type": "code",
   "execution_count": 28,
   "metadata": {},
   "outputs": [
    {
     "data": {
      "text/html": [
       "<div>\n",
       "<style scoped>\n",
       "    .dataframe tbody tr th:only-of-type {\n",
       "        vertical-align: middle;\n",
       "    }\n",
       "\n",
       "    .dataframe tbody tr th {\n",
       "        vertical-align: top;\n",
       "    }\n",
       "\n",
       "    .dataframe thead th {\n",
       "        text-align: right;\n",
       "    }\n",
       "</style>\n",
       "<table border=\"1\" class=\"dataframe\">\n",
       "  <thead>\n",
       "    <tr style=\"text-align: right;\">\n",
       "      <th></th>\n",
       "      <th>회원코드</th>\n",
       "      <th>프로그램</th>\n",
       "      <th>상태</th>\n",
       "      <th>프로그램가격</th>\n",
       "      <th>최종결제금액</th>\n",
       "      <th>결제시각</th>\n",
       "      <th>결제유형</th>\n",
       "      <th>채널</th>\n",
       "      <th>보조식품가격</th>\n",
       "      <th>보조식품(추가구매)</th>\n",
       "      <th>결제시각(clean)</th>\n",
       "    </tr>\n",
       "  </thead>\n",
       "  <tbody>\n",
       "    <tr>\n",
       "      <th>0</th>\n",
       "      <td>Y9RY2VSI</td>\n",
       "      <td>체중감량 프로그램 (타입B)</td>\n",
       "      <td>completed</td>\n",
       "      <td>112500</td>\n",
       "      <td>112500</td>\n",
       "      <td>2017-04-14 오후 7:03:29.976000</td>\n",
       "      <td>Recurring</td>\n",
       "      <td>others</td>\n",
       "      <td>0</td>\n",
       "      <td>구매안함</td>\n",
       "      <td>2017-04-14</td>\n",
       "    </tr>\n",
       "    <tr>\n",
       "      <th>1</th>\n",
       "      <td>3GTN3S3B</td>\n",
       "      <td>체중감량 프로그램 (타입B)</td>\n",
       "      <td>completed</td>\n",
       "      <td>44780</td>\n",
       "      <td>44780</td>\n",
       "      <td>2017-05-23 오후 8:53:54.368000</td>\n",
       "      <td>Recurring</td>\n",
       "      <td>others</td>\n",
       "      <td>0</td>\n",
       "      <td>구매안함</td>\n",
       "      <td>2017-05-23</td>\n",
       "    </tr>\n",
       "    <tr>\n",
       "      <th>2</th>\n",
       "      <td>6B0IG276</td>\n",
       "      <td>체중감량 프로그램 (타입 A)</td>\n",
       "      <td>completed</td>\n",
       "      <td>132000</td>\n",
       "      <td>149000</td>\n",
       "      <td>2017-08-23 오후 11:39:21.840000</td>\n",
       "      <td>Recurring</td>\n",
       "      <td>facebook</td>\n",
       "      <td>17000</td>\n",
       "      <td>식이요법보조제A</td>\n",
       "      <td>2017-08-23</td>\n",
       "    </tr>\n",
       "    <tr>\n",
       "      <th>3</th>\n",
       "      <td>EMGRU2MO</td>\n",
       "      <td>체중감량 프로그램 (타입 A)</td>\n",
       "      <td>completed</td>\n",
       "      <td>112500</td>\n",
       "      <td>112500</td>\n",
       "      <td>2017-08-28 오후 8:18:22.824000</td>\n",
       "      <td>Recurring</td>\n",
       "      <td>naver</td>\n",
       "      <td>0</td>\n",
       "      <td>구매안함</td>\n",
       "      <td>2017-08-28</td>\n",
       "    </tr>\n",
       "    <tr>\n",
       "      <th>4</th>\n",
       "      <td>1ELG96TX</td>\n",
       "      <td>체중감량 프로그램 (타입B)</td>\n",
       "      <td>completed</td>\n",
       "      <td>44780</td>\n",
       "      <td>44780</td>\n",
       "      <td>2017-05-07 오후 5:50:30.944000</td>\n",
       "      <td>Recurring</td>\n",
       "      <td>facebook</td>\n",
       "      <td>0</td>\n",
       "      <td>구매안함</td>\n",
       "      <td>2017-05-07</td>\n",
       "    </tr>\n",
       "  </tbody>\n",
       "</table>\n",
       "</div>"
      ],
      "text/plain": [
       "       회원코드              프로그램         상태  프로그램가격  최종결제금액  \\\n",
       "0  Y9RY2VSI   체중감량 프로그램 (타입B)  completed  112500  112500   \n",
       "1  3GTN3S3B   체중감량 프로그램 (타입B)  completed   44780   44780   \n",
       "2  6B0IG276  체중감량 프로그램 (타입 A)  completed  132000  149000   \n",
       "3  EMGRU2MO  체중감량 프로그램 (타입 A)  completed  112500  112500   \n",
       "4  1ELG96TX   체중감량 프로그램 (타입B)  completed   44780   44780   \n",
       "\n",
       "                            결제시각       결제유형        채널  보조식품가격 보조식품(추가구매)  \\\n",
       "0   2017-04-14 오후 7:03:29.976000  Recurring    others       0       구매안함   \n",
       "1   2017-05-23 오후 8:53:54.368000  Recurring    others       0       구매안함   \n",
       "2  2017-08-23 오후 11:39:21.840000  Recurring  facebook   17000   식이요법보조제A   \n",
       "3   2017-08-28 오후 8:18:22.824000  Recurring     naver       0       구매안함   \n",
       "4   2017-05-07 오후 5:50:30.944000  Recurring  facebook       0       구매안함   \n",
       "\n",
       "  결제시각(clean)  \n",
       "0  2017-04-14  \n",
       "1  2017-05-23  \n",
       "2  2017-08-23  \n",
       "3  2017-08-28  \n",
       "4  2017-05-07  "
      ]
     },
     "execution_count": 28,
     "metadata": {},
     "output_type": "execute_result"
    }
   ],
   "source": [
    "df1.head(5)"
   ]
  },
  {
   "cell_type": "markdown",
   "metadata": {},
   "source": [
    "#### 13. 변환된 데이터 타입을 이용해, '연도'/'월'/'일'/'주차'/'요일' 데이터를 추출 하시오."
   ]
  },
  {
   "cell_type": "code",
   "execution_count": 29,
   "metadata": {},
   "outputs": [],
   "source": [
    "df1['연도'] = df1['결제시각(clean)'].dt.year\n",
    "df1['월'] = df1['결제시각(clean)'].dt.month\n",
    "df1['요일'] = df1['결제시각(clean)'].dt.weekday_name\n",
    "df1['주차'] = df1['결제시각(clean)'].dt.week\n",
    "df1['일'] = df1['결제시각(clean)'].dt.day"
   ]
  },
  {
   "cell_type": "code",
   "execution_count": 30,
   "metadata": {},
   "outputs": [
    {
     "data": {
      "text/html": [
       "<div>\n",
       "<style scoped>\n",
       "    .dataframe tbody tr th:only-of-type {\n",
       "        vertical-align: middle;\n",
       "    }\n",
       "\n",
       "    .dataframe tbody tr th {\n",
       "        vertical-align: top;\n",
       "    }\n",
       "\n",
       "    .dataframe thead th {\n",
       "        text-align: right;\n",
       "    }\n",
       "</style>\n",
       "<table border=\"1\" class=\"dataframe\">\n",
       "  <thead>\n",
       "    <tr style=\"text-align: right;\">\n",
       "      <th></th>\n",
       "      <th>결제시각(clean)</th>\n",
       "      <th>연도</th>\n",
       "      <th>월</th>\n",
       "      <th>일</th>\n",
       "      <th>주차</th>\n",
       "      <th>요일</th>\n",
       "    </tr>\n",
       "  </thead>\n",
       "  <tbody>\n",
       "    <tr>\n",
       "      <th>0</th>\n",
       "      <td>2017-04-14</td>\n",
       "      <td>2017</td>\n",
       "      <td>4</td>\n",
       "      <td>14</td>\n",
       "      <td>15</td>\n",
       "      <td>Friday</td>\n",
       "    </tr>\n",
       "    <tr>\n",
       "      <th>1</th>\n",
       "      <td>2017-05-23</td>\n",
       "      <td>2017</td>\n",
       "      <td>5</td>\n",
       "      <td>23</td>\n",
       "      <td>21</td>\n",
       "      <td>Tuesday</td>\n",
       "    </tr>\n",
       "    <tr>\n",
       "      <th>2</th>\n",
       "      <td>2017-08-23</td>\n",
       "      <td>2017</td>\n",
       "      <td>8</td>\n",
       "      <td>23</td>\n",
       "      <td>34</td>\n",
       "      <td>Wednesday</td>\n",
       "    </tr>\n",
       "    <tr>\n",
       "      <th>3</th>\n",
       "      <td>2017-08-28</td>\n",
       "      <td>2017</td>\n",
       "      <td>8</td>\n",
       "      <td>28</td>\n",
       "      <td>35</td>\n",
       "      <td>Monday</td>\n",
       "    </tr>\n",
       "    <tr>\n",
       "      <th>4</th>\n",
       "      <td>2017-05-07</td>\n",
       "      <td>2017</td>\n",
       "      <td>5</td>\n",
       "      <td>7</td>\n",
       "      <td>18</td>\n",
       "      <td>Sunday</td>\n",
       "    </tr>\n",
       "  </tbody>\n",
       "</table>\n",
       "</div>"
      ],
      "text/plain": [
       "  결제시각(clean)    연도  월   일  주차         요일\n",
       "0  2017-04-14  2017  4  14  15     Friday\n",
       "1  2017-05-23  2017  5  23  21    Tuesday\n",
       "2  2017-08-23  2017  8  23  34  Wednesday\n",
       "3  2017-08-28  2017  8  28  35     Monday\n",
       "4  2017-05-07  2017  5   7  18     Sunday"
      ]
     },
     "execution_count": 30,
     "metadata": {},
     "output_type": "execute_result"
    }
   ],
   "source": [
    "df_date = df1[['결제시각(clean)', '연도', '월', '일', '주차', '요일']]\n",
    "df_date.head(5)"
   ]
  },
  {
   "cell_type": "markdown",
   "metadata": {},
   "source": [
    "#### 14. 요일 별 최종 결제금액의 평균을 Pivot_table을 이용해 계산하시오."
   ]
  },
  {
   "cell_type": "code",
   "execution_count": 31,
   "metadata": {},
   "outputs": [
    {
     "data": {
      "text/html": [
       "<div>\n",
       "<style scoped>\n",
       "    .dataframe tbody tr th:only-of-type {\n",
       "        vertical-align: middle;\n",
       "    }\n",
       "\n",
       "    .dataframe tbody tr th {\n",
       "        vertical-align: top;\n",
       "    }\n",
       "\n",
       "    .dataframe thead th {\n",
       "        text-align: right;\n",
       "    }\n",
       "</style>\n",
       "<table border=\"1\" class=\"dataframe\">\n",
       "  <thead>\n",
       "    <tr style=\"text-align: right;\">\n",
       "      <th></th>\n",
       "      <th>최종결제금액</th>\n",
       "    </tr>\n",
       "    <tr>\n",
       "      <th>요일</th>\n",
       "      <th></th>\n",
       "    </tr>\n",
       "  </thead>\n",
       "  <tbody>\n",
       "    <tr>\n",
       "      <th>Friday</th>\n",
       "      <td>119398.573770</td>\n",
       "    </tr>\n",
       "    <tr>\n",
       "      <th>Monday</th>\n",
       "      <td>114933.721919</td>\n",
       "    </tr>\n",
       "    <tr>\n",
       "      <th>Saturday</th>\n",
       "      <td>118656.780822</td>\n",
       "    </tr>\n",
       "    <tr>\n",
       "      <th>Sunday</th>\n",
       "      <td>115671.752848</td>\n",
       "    </tr>\n",
       "    <tr>\n",
       "      <th>Thursday</th>\n",
       "      <td>115441.371127</td>\n",
       "    </tr>\n",
       "    <tr>\n",
       "      <th>Tuesday</th>\n",
       "      <td>115640.595032</td>\n",
       "    </tr>\n",
       "    <tr>\n",
       "      <th>Wednesday</th>\n",
       "      <td>116542.979094</td>\n",
       "    </tr>\n",
       "  </tbody>\n",
       "</table>\n",
       "</div>"
      ],
      "text/plain": [
       "                  최종결제금액\n",
       "요일                      \n",
       "Friday     119398.573770\n",
       "Monday     114933.721919\n",
       "Saturday   118656.780822\n",
       "Sunday     115671.752848\n",
       "Thursday   115441.371127\n",
       "Tuesday    115640.595032\n",
       "Wednesday  116542.979094"
      ]
     },
     "execution_count": 31,
     "metadata": {},
     "output_type": "execute_result"
    }
   ],
   "source": [
    "df_weekday = pd.pivot_table(df1, index='요일', values='최종결제금액', aggfunc=np.mean)\n",
    "df_weekday"
   ]
  },
  {
   "cell_type": "markdown",
   "metadata": {},
   "source": [
    "#### 15. 전체데이터에서, 요일별 최종결제금액을 Box plot 시각화 하시오."
   ]
  },
  {
   "cell_type": "code",
   "execution_count": 32,
   "metadata": {},
   "outputs": [
    {
     "data": {
      "image/png": "[encoded data removed]",
      "text/plain": [
       "<Figure size 720x360 with 1 Axes>"
      ]
     },
     "metadata": {
      "image/png": {
       "height": 318,
       "width": 626
      },
      "needs_background": "light"
     },
     "output_type": "display_data"
    }
   ],
   "source": [
    "plt.figure(figsize=(10,5))\n",
    "sns.boxplot(x=\"요일\", y=\"최종결제금액\", data=df1)\n",
    "plt.show()"
   ]
  },
  {
   "cell_type": "markdown",
   "metadata": {},
   "source": [
    "#### 16. 요일 별 '최종결제금액'의 평균의 차이가 있는지 통계적 가설검정을 실시하시오."
   ]
  },
  {
   "cell_type": "code",
   "execution_count": 33,
   "metadata": {},
   "outputs": [],
   "source": [
    "df_ch2 = df1[['요일', '최종결제금액']]"
   ]
  },
  {
   "cell_type": "code",
   "execution_count": 34,
   "metadata": {},
   "outputs": [
    {
     "data": {
      "text/html": [
       "<div>\n",
       "<style scoped>\n",
       "    .dataframe tbody tr th:only-of-type {\n",
       "        vertical-align: middle;\n",
       "    }\n",
       "\n",
       "    .dataframe tbody tr th {\n",
       "        vertical-align: top;\n",
       "    }\n",
       "\n",
       "    .dataframe thead th {\n",
       "        text-align: right;\n",
       "    }\n",
       "</style>\n",
       "<table border=\"1\" class=\"dataframe\">\n",
       "  <thead>\n",
       "    <tr style=\"text-align: right;\">\n",
       "      <th></th>\n",
       "      <th>sum_sq</th>\n",
       "      <th>df</th>\n",
       "      <th>F</th>\n",
       "      <th>PR(&gt;F)</th>\n",
       "    </tr>\n",
       "  </thead>\n",
       "  <tbody>\n",
       "    <tr>\n",
       "      <th>C(요일)</th>\n",
       "      <td>2.274448e+10</td>\n",
       "      <td>6.0</td>\n",
       "      <td>8.462078</td>\n",
       "      <td>3.475459e-09</td>\n",
       "    </tr>\n",
       "    <tr>\n",
       "      <th>Residual</th>\n",
       "      <td>4.476553e+12</td>\n",
       "      <td>9993.0</td>\n",
       "      <td>NaN</td>\n",
       "      <td>NaN</td>\n",
       "    </tr>\n",
       "  </tbody>\n",
       "</table>\n",
       "</div>"
      ],
      "text/plain": [
       "                sum_sq      df         F        PR(>F)\n",
       "C(요일)     2.274448e+10     6.0  8.462078  3.475459e-09\n",
       "Residual  4.476553e+12  9993.0       NaN           NaN"
      ]
     },
     "execution_count": 34,
     "metadata": {},
     "output_type": "execute_result"
    }
   ],
   "source": [
    "model = ols('최종결제금액 ~ C(요일)', data = df_ch2).fit()\n",
    "anova_table = sm.stats.anova_lm(model, typ=2)\n",
    "anova_table"
   ]
  },
  {
   "cell_type": "markdown",
   "metadata": {},
   "source": [
    "* 귀무가설 : 요일별 최종결제금액 평균의 차이가 없다.\n",
    "* 대립가설 : 요일별 최종결제금액 평균의 차이가 있다.\n",
    "* 통계적 결론 : 요일별 최종결제금액 평균의 차이가 있다.\n",
    "* 사실적 결론 : 요일별 최종결제금액 평균의 차이가 있다."
   ]
  },
  {
   "cell_type": "markdown",
   "metadata": {},
   "source": [
    "#### 17. 월 별 최종금액의 평균을 Pivot_table을 이용하여 계산하시오."
   ]
  },
  {
   "cell_type": "code",
   "execution_count": 35,
   "metadata": {},
   "outputs": [
    {
     "data": {
      "text/html": [
       "<div>\n",
       "<style scoped>\n",
       "    .dataframe tbody tr th:only-of-type {\n",
       "        vertical-align: middle;\n",
       "    }\n",
       "\n",
       "    .dataframe tbody tr th {\n",
       "        vertical-align: top;\n",
       "    }\n",
       "\n",
       "    .dataframe thead th {\n",
       "        text-align: right;\n",
       "    }\n",
       "</style>\n",
       "<table border=\"1\" class=\"dataframe\">\n",
       "  <thead>\n",
       "    <tr style=\"text-align: right;\">\n",
       "      <th></th>\n",
       "      <th>최종결제금액</th>\n",
       "    </tr>\n",
       "    <tr>\n",
       "      <th>월</th>\n",
       "      <th></th>\n",
       "    </tr>\n",
       "  </thead>\n",
       "  <tbody>\n",
       "    <tr>\n",
       "      <th>3</th>\n",
       "      <td>109351.456311</td>\n",
       "    </tr>\n",
       "    <tr>\n",
       "      <th>4</th>\n",
       "      <td>108583.583062</td>\n",
       "    </tr>\n",
       "    <tr>\n",
       "      <th>5</th>\n",
       "      <td>108715.465729</td>\n",
       "    </tr>\n",
       "    <tr>\n",
       "      <th>6</th>\n",
       "      <td>120963.879004</td>\n",
       "    </tr>\n",
       "    <tr>\n",
       "      <th>7</th>\n",
       "      <td>120435.313977</td>\n",
       "    </tr>\n",
       "    <tr>\n",
       "      <th>8</th>\n",
       "      <td>120545.518293</td>\n",
       "    </tr>\n",
       "  </tbody>\n",
       "</table>\n",
       "</div>"
      ],
      "text/plain": [
       "          최종결제금액\n",
       "월               \n",
       "3  109351.456311\n",
       "4  108583.583062\n",
       "5  108715.465729\n",
       "6  120963.879004\n",
       "7  120435.313977\n",
       "8  120545.518293"
      ]
     },
     "execution_count": 35,
     "metadata": {},
     "output_type": "execute_result"
    }
   ],
   "source": [
    "df_month = pd.pivot_table(df1, index='월', values='최종결제금액', aggfunc=np.mean)\n",
    "df_month "
   ]
  },
  {
   "cell_type": "markdown",
   "metadata": {},
   "source": [
    "#### 18. 전체 데이터에서, 월별 최종결제금액을 Violin plot 하시오."
   ]
  },
  {
   "cell_type": "code",
   "execution_count": 36,
   "metadata": {},
   "outputs": [
    {
     "data": {
      "text/plain": [
       "<function matplotlib.pyplot.show(*args, **kw)>"
      ]
     },
     "execution_count": 36,
     "metadata": {},
     "output_type": "execute_result"
    },
    {
     "data": {
      "image/png": "[encoded data removed]",
      "text/plain": [
       "<Figure size 720x360 with 1 Axes>"
      ]
     },
     "metadata": {
      "image/png": {
       "height": 319,
       "width": 626
      },
      "needs_background": "light"
     },
     "output_type": "display_data"
    }
   ],
   "source": [
    "plt.figure(figsize=(10,5))\n",
    "sns.violinplot(x='월', y='최종결제금액', data=df1)\n",
    "plt.show"
   ]
  },
  {
   "cell_type": "markdown",
   "metadata": {},
   "source": [
    "#### 19. 월 별 '최종결제금액'의 평균의 차이가 있는지 통계적 가설검정을 실시하시오."
   ]
  },
  {
   "cell_type": "code",
   "execution_count": 37,
   "metadata": {},
   "outputs": [],
   "source": [
    "df_ch3 = df1[['월', '최종결제금액']]"
   ]
  },
  {
   "cell_type": "code",
   "execution_count": 38,
   "metadata": {},
   "outputs": [
    {
     "data": {
      "text/html": [
       "<div>\n",
       "<style scoped>\n",
       "    .dataframe tbody tr th:only-of-type {\n",
       "        vertical-align: middle;\n",
       "    }\n",
       "\n",
       "    .dataframe tbody tr th {\n",
       "        vertical-align: top;\n",
       "    }\n",
       "\n",
       "    .dataframe thead th {\n",
       "        text-align: right;\n",
       "    }\n",
       "</style>\n",
       "<table border=\"1\" class=\"dataframe\">\n",
       "  <thead>\n",
       "    <tr style=\"text-align: right;\">\n",
       "      <th></th>\n",
       "      <th>sum_sq</th>\n",
       "      <th>df</th>\n",
       "      <th>F</th>\n",
       "      <th>PR(&gt;F)</th>\n",
       "    </tr>\n",
       "  </thead>\n",
       "  <tbody>\n",
       "    <tr>\n",
       "      <th>C(월)</th>\n",
       "      <td>3.221296e+11</td>\n",
       "      <td>5.0</td>\n",
       "      <td>154.140975</td>\n",
       "      <td>3.100876e-158</td>\n",
       "    </tr>\n",
       "    <tr>\n",
       "      <th>Residual</th>\n",
       "      <td>4.177168e+12</td>\n",
       "      <td>9994.0</td>\n",
       "      <td>NaN</td>\n",
       "      <td>NaN</td>\n",
       "    </tr>\n",
       "  </tbody>\n",
       "</table>\n",
       "</div>"
      ],
      "text/plain": [
       "                sum_sq      df           F         PR(>F)\n",
       "C(월)      3.221296e+11     5.0  154.140975  3.100876e-158\n",
       "Residual  4.177168e+12  9994.0         NaN            NaN"
      ]
     },
     "execution_count": 38,
     "metadata": {},
     "output_type": "execute_result"
    }
   ],
   "source": [
    "model = ols('최종결제금액 ~ C(월)', data = df_ch3).fit()\n",
    "anova_table = sm.stats.anova_lm(model, typ=2)\n",
    "anova_table"
   ]
  },
  {
   "cell_type": "markdown",
   "metadata": {},
   "source": [
    "* 귀무가설 : 월별 최종결제금액 평균의 차이가 없다.\n",
    "* 대립가설 : 월별 최종결제금액 평균의 차이가 있다.\n",
    "* 통계적 결론 : 월별 최종결제금액 평균의 차이가 있다.\n",
    "* 사실적 결론 : 월별 최종결제금액 평균의 차이가 있다."
   ]
  }
 ],
 "metadata": {
  "kernelspec": {
   "display_name": "Python 3",
   "language": "python",
   "name": "python3"
  },
  "language_info": {
   "codemirror_mode": {
    "name": "ipython",
    "version": 3
   },
   "file_extension": ".py",
   "mimetype": "text/x-python",
   "name": "python",
   "nbconvert_exporter": "python",
   "pygments_lexer": "ipython3",
   "version": "3.7.4"
  },
  "toc": {
   "base_numbering": 1,
   "nav_menu": {},
   "number_sections": true,
   "sideBar": true,
   "skip_h1_title": false,
   "title_cell": "Table of Contents",
   "title_sidebar": "Contents",
   "toc_cell": false,
   "toc_position": {},
   "toc_section_display": true,
   "toc_window_display": false
  }
 },
 "nbformat": 4,
 "nbformat_minor": 2
}
