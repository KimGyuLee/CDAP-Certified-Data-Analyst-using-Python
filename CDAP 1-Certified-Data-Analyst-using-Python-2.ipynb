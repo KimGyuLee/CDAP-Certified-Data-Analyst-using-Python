{
 "cells": [
  {
   "cell_type": "markdown",
   "metadata": {},
   "source": [
    "## CDAPⅠ-Certified-Data-Analyst-using-Python-2"
   ]
  },
  {
   "cell_type": "markdown",
   "metadata": {},
   "source": [
    "#### 1. For 반복문을 이용하여, 1부터 입력받은 수 까지 제곱 합을 구하는 프로그램을 만드시오.\n",
    "\n",
    "Ex ) 1² + 2² + 3² + 4² + ...  + n²"
   ]
  },
  {
   "cell_type": "code",
   "execution_count": 1,
   "metadata": {},
   "outputs": [
    {
     "name": "stdout",
     "output_type": "stream",
     "text": [
      "input number: 5\n",
      "55\n"
     ]
    }
   ],
   "source": [
    "number = int(input(\"input number: \"))\n",
    "\n",
    "s = 0\n",
    "for i in range(1, number+1):\n",
    "    square = i*i\n",
    "    s = s + square\n",
    "    \n",
    "print(s)"
   ]
  },
  {
   "cell_type": "markdown",
   "metadata": {},
   "source": [
    "#### 2. If 조건문을 이용하여, 어떤 수를 입력했을 때, 홀수와 짝수를 구분하는 프로그램을 만드시오. "
   ]
  },
  {
   "cell_type": "code",
   "execution_count": 2,
   "metadata": {},
   "outputs": [
    {
     "name": "stdout",
     "output_type": "stream",
     "text": [
      "input number: 9\n",
      "9 is Odd number\n"
     ]
    }
   ],
   "source": [
    "number2 = int(input(\"input number: \"))\n",
    "\n",
    "if number2 % 2 == 0:\n",
    "    print(\"%d is Even number\" %number2)\n",
    "\n",
    "else :\n",
    "    print(\"%d is Odd number\" %number2)"
   ]
  },
  {
   "cell_type": "markdown",
   "metadata": {},
   "source": [
    "#### 3. 어떤 리스트의 중복을 제거하는 함수(def)를 만드시오.\n",
    "\n",
    "Ex) \n",
    "    * 입력 : A= [1,2,3,4,4,4,5]  \n",
    "    * 결과 :  [1,2,3,4,5]"
   ]
  },
  {
   "cell_type": "code",
   "execution_count": 3,
   "metadata": {},
   "outputs": [],
   "source": [
    "def remove_duplicates():\n",
    "    A = list(input(\"input list: \"))\n",
    "    print('입력 : ', A)\n",
    "\n",
    "    B = []\n",
    "    for i in A :\n",
    "        if i not in B:\n",
    "            B.append(i)\n",
    "        else :\n",
    "            continue\n",
    "    print(\"중복제거: \", B)"
   ]
  },
  {
   "cell_type": "code",
   "execution_count": 4,
   "metadata": {},
   "outputs": [
    {
     "name": "stdout",
     "output_type": "stream",
     "text": [
      "input list: 1234445\n",
      "입력 :  ['1', '2', '3', '4', '4', '4', '5']\n",
      "중복제거:  ['1', '2', '3', '4', '5']\n"
     ]
    }
   ],
   "source": [
    "remove_duplicates()"
   ]
  },
  {
   "cell_type": "markdown",
   "metadata": {},
   "source": [
    "#### 4. 두 개의 이중 리스트를 Matrix(행렬)로 변환하여, 각 성분끼리 더하는 함수를(def) 만드시오."
   ]
  },
  {
   "cell_type": "code",
   "execution_count": 5,
   "metadata": {},
   "outputs": [],
   "source": [
    "import numpy as np\n",
    "\n",
    "list1 = [[1,2,3],[9,8,7],[2,5,6]]\n",
    "list2 = [[2,3,4],[1,3,4,],[7,9,7]]"
   ]
  },
  {
   "cell_type": "code",
   "execution_count": 6,
   "metadata": {},
   "outputs": [],
   "source": [
    "def matrix_sum():\n",
    "    x = np.array(list1)\n",
    "    y = np.array(list2)\n",
    "    \n",
    "    s = x + y\n",
    "    return(s)"
   ]
  },
  {
   "cell_type": "code",
   "execution_count": 7,
   "metadata": {},
   "outputs": [
    {
     "data": {
      "text/plain": [
       "array([[ 3,  5,  7],\n",
       "       [10, 11, 11],\n",
       "       [ 9, 14, 13]])"
      ]
     },
     "execution_count": 7,
     "metadata": {},
     "output_type": "execute_result"
    }
   ],
   "source": [
    "matrix_sum()"
   ]
  },
  {
   "cell_type": "markdown",
   "metadata": {},
   "source": [
    "#### 5. Pandas 라이브러리를 이용하여, 아래와 같은 Series를 생성하시오."
   ]
  },
  {
   "cell_type": "code",
   "execution_count": 8,
   "metadata": {
    "scrolled": true
   },
   "outputs": [
    {
     "name": "stdout",
     "output_type": "stream",
     "text": [
      "연도    2019\n",
      "월        7\n",
      "일       20\n",
      "성함     이영호\n",
      "소속      HR\n",
      "Name: Person, dtype: object\n"
     ]
    }
   ],
   "source": [
    "import pandas as pd\n",
    "\n",
    "obj = pd.Series([2019, 7, 20, '이영호', 'HR'], index=['연도','월','일','성함','소속'])\n",
    "obj.name = 'Person'\n",
    "print(obj)"
   ]
  },
  {
   "cell_type": "markdown",
   "metadata": {},
   "source": [
    "#### 6. 아래의 2x3 행렬을 3x2행렬로 변환 하는 함수(def)를 생성하시오."
   ]
  },
  {
   "cell_type": "markdown",
   "metadata": {},
   "source": [
    "* 입력 : [[2,3],[4,5],[6,7]]\n",
    "* 결과 : [[2,4,6],[3,5,7]]"
   ]
  },
  {
   "cell_type": "code",
   "execution_count": 9,
   "metadata": {},
   "outputs": [],
   "source": [
    "def convert_mtx():\n",
    "    n = np.array([[2,3],[4,5],[6,7]])\n",
    "    return(np.transpose(n))"
   ]
  },
  {
   "cell_type": "code",
   "execution_count": 10,
   "metadata": {},
   "outputs": [
    {
     "data": {
      "text/plain": [
       "array([[2, 4, 6],\n",
       "       [3, 5, 7]])"
      ]
     },
     "execution_count": 10,
     "metadata": {},
     "output_type": "execute_result"
    }
   ],
   "source": [
    "convert_mtx()"
   ]
  },
  {
   "cell_type": "markdown",
   "metadata": {},
   "source": [
    "#### 7. 아래 리스트의 평균을 계산하시오."
   ]
  },
  {
   "cell_type": "code",
   "execution_count": 11,
   "metadata": {},
   "outputs": [],
   "source": [
    "list1 = [1,1.2,3,4,2,2.2,3.4,0.8,20]"
   ]
  },
  {
   "cell_type": "code",
   "execution_count": 12,
   "metadata": {},
   "outputs": [
    {
     "name": "stdout",
     "output_type": "stream",
     "text": [
      "4.177777777777777\n"
     ]
    }
   ],
   "source": [
    "avg = sum(list1) / len(list1)\n",
    "print(avg)"
   ]
  },
  {
   "cell_type": "markdown",
   "metadata": {},
   "source": [
    "#### 8. If 조건문을 이용하여, 특정 값을 입력했을 때, 해당 값이 3의 배수인지 아닌지 판별하는 함수(def)를 만드시오."
   ]
  },
  {
   "cell_type": "code",
   "execution_count": 13,
   "metadata": {},
   "outputs": [],
   "source": [
    "def three():\n",
    "    num = int(input(\"input number :\"))\n",
    "    if num % 3 == 0 :\n",
    "        print(\"%d는 3의 배수입니다.\" %num)\n",
    "    else :\n",
    "        print(\"%d는 3의 배수가 아닙니다.\" %num)"
   ]
  },
  {
   "cell_type": "code",
   "execution_count": 14,
   "metadata": {},
   "outputs": [
    {
     "name": "stdout",
     "output_type": "stream",
     "text": [
      "input number :5\n",
      "5는 3의 배수가 아닙니다.\n"
     ]
    }
   ],
   "source": [
    "three()"
   ]
  },
  {
   "cell_type": "markdown",
   "metadata": {},
   "source": [
    "#### 9. 연도를 입력했을 때, 윤년인지 평년인지 판별하는 함수(def)를 만드시오."
   ]
  },
  {
   "cell_type": "markdown",
   "metadata": {},
   "source": [
    "* 윤년의 조건 \n",
    "    - 4로 나누어 떨어지는 년도는 윤년이다\n",
    "    - 그 중 100으로 나누어 떨어지는 년도는 윤년이 아니다\n",
    "    - 400으로 나누어 떨어지는 년도는 무조건 윤년이다\n"
   ]
  },
  {
   "cell_type": "code",
   "execution_count": 15,
   "metadata": {},
   "outputs": [],
   "source": [
    "def leap_year():\n",
    "    year = int(input(\"input year :\"))\n",
    "    if ((year % 4 == 0) and (year % 100 != 0)) or (year % 400 == 0):\n",
    "        print(\"윤년입니다.\")\n",
    "    else :\n",
    "        print(\"윤년이 아닙니다.\")"
   ]
  },
  {
   "cell_type": "code",
   "execution_count": 16,
   "metadata": {},
   "outputs": [
    {
     "name": "stdout",
     "output_type": "stream",
     "text": [
      "input year :2020\n",
      "윤년입니다.\n"
     ]
    }
   ],
   "source": [
    "leap_year()"
   ]
  },
  {
   "cell_type": "markdown",
   "metadata": {},
   "source": [
    "#### 10. 2_data.csv 를 Pandas를 이용해 불러와 데이터를 상위 5개 항목만 출력 하시오. "
   ]
  },
  {
   "cell_type": "code",
   "execution_count": 17,
   "metadata": {},
   "outputs": [],
   "source": [
    "import pandas as pd "
   ]
  },
  {
   "cell_type": "code",
   "execution_count": 18,
   "metadata": {},
   "outputs": [
    {
     "data": {
      "text/html": [
       "<div>\n",
       "<style scoped>\n",
       "    .dataframe tbody tr th:only-of-type {\n",
       "        vertical-align: middle;\n",
       "    }\n",
       "\n",
       "    .dataframe tbody tr th {\n",
       "        vertical-align: top;\n",
       "    }\n",
       "\n",
       "    .dataframe thead th {\n",
       "        text-align: right;\n",
       "    }\n",
       "</style>\n",
       "<table border=\"1\" class=\"dataframe\">\n",
       "  <thead>\n",
       "    <tr style=\"text-align: right;\">\n",
       "      <th></th>\n",
       "      <th>공급일자</th>\n",
       "      <th>요일</th>\n",
       "      <th>공급월</th>\n",
       "      <th>공급주차</th>\n",
       "      <th>회원번호</th>\n",
       "      <th>조합원상태</th>\n",
       "      <th>물품대분류</th>\n",
       "      <th>물품중분류</th>\n",
       "      <th>물품소분류</th>\n",
       "      <th>물품명</th>\n",
       "      <th>구매수량</th>\n",
       "      <th>주소-구</th>\n",
       "      <th>주소-동</th>\n",
       "      <th>성별</th>\n",
       "      <th>연령</th>\n",
       "      <th>연령대</th>\n",
       "      <th>구매금액</th>\n",
       "      <th>구매매장</th>\n",
       "      <th>반품_원거래일자</th>\n",
       "      <th>구매시각</th>\n",
       "    </tr>\n",
       "  </thead>\n",
       "  <tbody>\n",
       "    <tr>\n",
       "      <th>0</th>\n",
       "      <td>2018-01-02</td>\n",
       "      <td>화</td>\n",
       "      <td>1</td>\n",
       "      <td>1</td>\n",
       "      <td>272369856</td>\n",
       "      <td>정상회원</td>\n",
       "      <td>과실</td>\n",
       "      <td>과일</td>\n",
       "      <td>사과</td>\n",
       "      <td>사과/유(1.5kg)</td>\n",
       "      <td>1.0</td>\n",
       "      <td>수지구</td>\n",
       "      <td>풍덕천동</td>\n",
       "      <td>여</td>\n",
       "      <td>45.0</td>\n",
       "      <td>40대</td>\n",
       "      <td>22207</td>\n",
       "      <td>매장C</td>\n",
       "      <td>NaN</td>\n",
       "      <td>10:04</td>\n",
       "    </tr>\n",
       "    <tr>\n",
       "      <th>1</th>\n",
       "      <td>2018-01-02</td>\n",
       "      <td>화</td>\n",
       "      <td>1</td>\n",
       "      <td>1</td>\n",
       "      <td>1506656256</td>\n",
       "      <td>정상회원</td>\n",
       "      <td>채소</td>\n",
       "      <td>버섯</td>\n",
       "      <td>느타리버섯</td>\n",
       "      <td>느타리버섯(300g)</td>\n",
       "      <td>1.0</td>\n",
       "      <td>수지구</td>\n",
       "      <td>풍덕천동</td>\n",
       "      <td>여</td>\n",
       "      <td>36.0</td>\n",
       "      <td>30대이하</td>\n",
       "      <td>4977</td>\n",
       "      <td>매장C</td>\n",
       "      <td>NaN</td>\n",
       "      <td>10:05</td>\n",
       "    </tr>\n",
       "    <tr>\n",
       "      <th>2</th>\n",
       "      <td>2018-01-02</td>\n",
       "      <td>화</td>\n",
       "      <td>1</td>\n",
       "      <td>1</td>\n",
       "      <td>1506656256</td>\n",
       "      <td>정상회원</td>\n",
       "      <td>축산물</td>\n",
       "      <td>알</td>\n",
       "      <td>유정란</td>\n",
       "      <td>유정란/매장용(10알/국내산)</td>\n",
       "      <td>1.0</td>\n",
       "      <td>수지구</td>\n",
       "      <td>풍덕천동</td>\n",
       "      <td>여</td>\n",
       "      <td>36.0</td>\n",
       "      <td>30대이하</td>\n",
       "      <td>7083</td>\n",
       "      <td>매장C</td>\n",
       "      <td>NaN</td>\n",
       "      <td>10:05</td>\n",
       "    </tr>\n",
       "    <tr>\n",
       "      <th>3</th>\n",
       "      <td>2018-01-02</td>\n",
       "      <td>화</td>\n",
       "      <td>1</td>\n",
       "      <td>1</td>\n",
       "      <td>1023108864</td>\n",
       "      <td>정상회원</td>\n",
       "      <td>반찬</td>\n",
       "      <td>두부/유부</td>\n",
       "      <td>두부</td>\n",
       "      <td>연두부(100g)</td>\n",
       "      <td>1.0</td>\n",
       "      <td>수지구</td>\n",
       "      <td>풍덕천동</td>\n",
       "      <td>여</td>\n",
       "      <td>36.0</td>\n",
       "      <td>30대이하</td>\n",
       "      <td>766</td>\n",
       "      <td>매장C</td>\n",
       "      <td>NaN</td>\n",
       "      <td>10:08</td>\n",
       "    </tr>\n",
       "    <tr>\n",
       "      <th>4</th>\n",
       "      <td>2018-01-02</td>\n",
       "      <td>화</td>\n",
       "      <td>1</td>\n",
       "      <td>1</td>\n",
       "      <td>1476143616</td>\n",
       "      <td>정상회원</td>\n",
       "      <td>간식</td>\n",
       "      <td>빵</td>\n",
       "      <td>식빵, 식사대용</td>\n",
       "      <td>아침빵(240g/8개)/매장</td>\n",
       "      <td>1.0</td>\n",
       "      <td>수지구</td>\n",
       "      <td>풍덕천동</td>\n",
       "      <td>여</td>\n",
       "      <td>34.0</td>\n",
       "      <td>30대이하</td>\n",
       "      <td>4403</td>\n",
       "      <td>매장C</td>\n",
       "      <td>NaN</td>\n",
       "      <td>10:09</td>\n",
       "    </tr>\n",
       "  </tbody>\n",
       "</table>\n",
       "</div>"
      ],
      "text/plain": [
       "         공급일자 요일  공급월  공급주차        회원번호 조합원상태 물품대분류  물품중분류     물품소분류  \\\n",
       "0  2018-01-02  화    1     1   272369856  정상회원    과실     과일        사과   \n",
       "1  2018-01-02  화    1     1  1506656256  정상회원    채소     버섯     느타리버섯   \n",
       "2  2018-01-02  화    1     1  1506656256  정상회원   축산물      알       유정란   \n",
       "3  2018-01-02  화    1     1  1023108864  정상회원    반찬  두부/유부        두부   \n",
       "4  2018-01-02  화    1     1  1476143616  정상회원    간식      빵  식빵, 식사대용   \n",
       "\n",
       "                물품명  구매수량 주소-구  주소-동 성별    연령    연령대   구매금액 구매매장  반품_원거래일자  \\\n",
       "0       사과/유(1.5kg)   1.0  수지구  풍덕천동  여  45.0    40대  22207  매장C       NaN   \n",
       "1       느타리버섯(300g)   1.0  수지구  풍덕천동  여  36.0  30대이하   4977  매장C       NaN   \n",
       "2  유정란/매장용(10알/국내산)   1.0  수지구  풍덕천동  여  36.0  30대이하   7083  매장C       NaN   \n",
       "3         연두부(100g)   1.0  수지구  풍덕천동  여  36.0  30대이하    766  매장C       NaN   \n",
       "4   아침빵(240g/8개)/매장   1.0  수지구  풍덕천동  여  34.0  30대이하   4403  매장C       NaN   \n",
       "\n",
       "    구매시각  \n",
       "0  10:04  \n",
       "1  10:05  \n",
       "2  10:05  \n",
       "3  10:08  \n",
       "4  10:09  "
      ]
     },
     "execution_count": 18,
     "metadata": {},
     "output_type": "execute_result"
    }
   ],
   "source": [
    "df = pd.read_csv(\"2_data.csv\")\n",
    "df.head(5)"
   ]
  },
  {
   "cell_type": "markdown",
   "metadata": {},
   "source": [
    "#### 11. 2_data.csv 데이터의 column을 모두 확인하시오"
   ]
  },
  {
   "cell_type": "code",
   "execution_count": 19,
   "metadata": {},
   "outputs": [
    {
     "data": {
      "text/plain": [
       "Index(['공급일자', '요일', '공급월', '공급주차', '회원번호', '조합원상태', '물품대분류', '물품중분류', '물품소분류',\n",
       "       '물품명', '구매수량', '주소-구', '주소-동', '성별', '연령', '연령대', '구매금액', '구매매장',\n",
       "       '반품_원거래일자', '구매시각'],\n",
       "      dtype='object')"
      ]
     },
     "execution_count": 19,
     "metadata": {},
     "output_type": "execute_result"
    }
   ],
   "source": [
    "df.columns"
   ]
  },
  {
   "cell_type": "markdown",
   "metadata": {},
   "source": [
    "#### 12. 2_data.csv 데이터의 구매수량에 대한 평균을 계산하시오 ."
   ]
  },
  {
   "cell_type": "code",
   "execution_count": 20,
   "metadata": {},
   "outputs": [
    {
     "data": {
      "text/plain": [
       "1.138202689736349"
      ]
     },
     "execution_count": 20,
     "metadata": {},
     "output_type": "execute_result"
    }
   ],
   "source": [
    "df['구매수량'].mean()"
   ]
  },
  {
   "cell_type": "markdown",
   "metadata": {},
   "source": [
    "#### 13. 2_data.csv 데이터의 \"물품 대분류\" 중, 축산물의 갯수를 계산하시오"
   ]
  },
  {
   "cell_type": "code",
   "execution_count": 21,
   "metadata": {},
   "outputs": [
    {
     "data": {
      "text/plain": [
       "125387"
      ]
     },
     "execution_count": 21,
     "metadata": {},
     "output_type": "execute_result"
    }
   ],
   "source": [
    "len(df[df['물품대분류']=='축산물'])"
   ]
  },
  {
   "cell_type": "markdown",
   "metadata": {},
   "source": [
    "#### 14 2_data.csv 데이터의 \"공급주차\"뒤에 차수를 붙이는 함수를(def) 만드시오."
   ]
  },
  {
   "cell_type": "markdown",
   "metadata": {},
   "source": [
    "Ex ) \n",
    "    * 입력 : 1 \n",
    "    * 결과 : 1주차 "
   ]
  },
  {
   "cell_type": "code",
   "execution_count": 22,
   "metadata": {},
   "outputs": [],
   "source": [
    "def provide():\n",
    "    df['공급주차'] = df.공급주차.astype('str')\n",
    "    df['공급주차'] = df['공급주차'] + '차수'"
   ]
  },
  {
   "cell_type": "code",
   "execution_count": 23,
   "metadata": {},
   "outputs": [],
   "source": [
    "provide()"
   ]
  },
  {
   "cell_type": "code",
   "execution_count": 24,
   "metadata": {},
   "outputs": [
    {
     "data": {
      "text/html": [
       "<div>\n",
       "<style scoped>\n",
       "    .dataframe tbody tr th:only-of-type {\n",
       "        vertical-align: middle;\n",
       "    }\n",
       "\n",
       "    .dataframe tbody tr th {\n",
       "        vertical-align: top;\n",
       "    }\n",
       "\n",
       "    .dataframe thead th {\n",
       "        text-align: right;\n",
       "    }\n",
       "</style>\n",
       "<table border=\"1\" class=\"dataframe\">\n",
       "  <thead>\n",
       "    <tr style=\"text-align: right;\">\n",
       "      <th></th>\n",
       "      <th>공급일자</th>\n",
       "      <th>요일</th>\n",
       "      <th>공급월</th>\n",
       "      <th>공급주차</th>\n",
       "      <th>회원번호</th>\n",
       "      <th>조합원상태</th>\n",
       "      <th>물품대분류</th>\n",
       "      <th>물품중분류</th>\n",
       "      <th>물품소분류</th>\n",
       "      <th>물품명</th>\n",
       "      <th>구매수량</th>\n",
       "      <th>주소-구</th>\n",
       "      <th>주소-동</th>\n",
       "      <th>성별</th>\n",
       "      <th>연령</th>\n",
       "      <th>연령대</th>\n",
       "      <th>구매금액</th>\n",
       "      <th>구매매장</th>\n",
       "      <th>반품_원거래일자</th>\n",
       "      <th>구매시각</th>\n",
       "    </tr>\n",
       "  </thead>\n",
       "  <tbody>\n",
       "    <tr>\n",
       "      <th>0</th>\n",
       "      <td>2018-01-02</td>\n",
       "      <td>화</td>\n",
       "      <td>1</td>\n",
       "      <td>1차수</td>\n",
       "      <td>272369856</td>\n",
       "      <td>정상회원</td>\n",
       "      <td>과실</td>\n",
       "      <td>과일</td>\n",
       "      <td>사과</td>\n",
       "      <td>사과/유(1.5kg)</td>\n",
       "      <td>1.0</td>\n",
       "      <td>수지구</td>\n",
       "      <td>풍덕천동</td>\n",
       "      <td>여</td>\n",
       "      <td>45.0</td>\n",
       "      <td>40대</td>\n",
       "      <td>22207</td>\n",
       "      <td>매장C</td>\n",
       "      <td>NaN</td>\n",
       "      <td>10:04</td>\n",
       "    </tr>\n",
       "    <tr>\n",
       "      <th>1</th>\n",
       "      <td>2018-01-02</td>\n",
       "      <td>화</td>\n",
       "      <td>1</td>\n",
       "      <td>1차수</td>\n",
       "      <td>1506656256</td>\n",
       "      <td>정상회원</td>\n",
       "      <td>채소</td>\n",
       "      <td>버섯</td>\n",
       "      <td>느타리버섯</td>\n",
       "      <td>느타리버섯(300g)</td>\n",
       "      <td>1.0</td>\n",
       "      <td>수지구</td>\n",
       "      <td>풍덕천동</td>\n",
       "      <td>여</td>\n",
       "      <td>36.0</td>\n",
       "      <td>30대이하</td>\n",
       "      <td>4977</td>\n",
       "      <td>매장C</td>\n",
       "      <td>NaN</td>\n",
       "      <td>10:05</td>\n",
       "    </tr>\n",
       "    <tr>\n",
       "      <th>2</th>\n",
       "      <td>2018-01-02</td>\n",
       "      <td>화</td>\n",
       "      <td>1</td>\n",
       "      <td>1차수</td>\n",
       "      <td>1506656256</td>\n",
       "      <td>정상회원</td>\n",
       "      <td>축산물</td>\n",
       "      <td>알</td>\n",
       "      <td>유정란</td>\n",
       "      <td>유정란/매장용(10알/국내산)</td>\n",
       "      <td>1.0</td>\n",
       "      <td>수지구</td>\n",
       "      <td>풍덕천동</td>\n",
       "      <td>여</td>\n",
       "      <td>36.0</td>\n",
       "      <td>30대이하</td>\n",
       "      <td>7083</td>\n",
       "      <td>매장C</td>\n",
       "      <td>NaN</td>\n",
       "      <td>10:05</td>\n",
       "    </tr>\n",
       "    <tr>\n",
       "      <th>3</th>\n",
       "      <td>2018-01-02</td>\n",
       "      <td>화</td>\n",
       "      <td>1</td>\n",
       "      <td>1차수</td>\n",
       "      <td>1023108864</td>\n",
       "      <td>정상회원</td>\n",
       "      <td>반찬</td>\n",
       "      <td>두부/유부</td>\n",
       "      <td>두부</td>\n",
       "      <td>연두부(100g)</td>\n",
       "      <td>1.0</td>\n",
       "      <td>수지구</td>\n",
       "      <td>풍덕천동</td>\n",
       "      <td>여</td>\n",
       "      <td>36.0</td>\n",
       "      <td>30대이하</td>\n",
       "      <td>766</td>\n",
       "      <td>매장C</td>\n",
       "      <td>NaN</td>\n",
       "      <td>10:08</td>\n",
       "    </tr>\n",
       "    <tr>\n",
       "      <th>4</th>\n",
       "      <td>2018-01-02</td>\n",
       "      <td>화</td>\n",
       "      <td>1</td>\n",
       "      <td>1차수</td>\n",
       "      <td>1476143616</td>\n",
       "      <td>정상회원</td>\n",
       "      <td>간식</td>\n",
       "      <td>빵</td>\n",
       "      <td>식빵, 식사대용</td>\n",
       "      <td>아침빵(240g/8개)/매장</td>\n",
       "      <td>1.0</td>\n",
       "      <td>수지구</td>\n",
       "      <td>풍덕천동</td>\n",
       "      <td>여</td>\n",
       "      <td>34.0</td>\n",
       "      <td>30대이하</td>\n",
       "      <td>4403</td>\n",
       "      <td>매장C</td>\n",
       "      <td>NaN</td>\n",
       "      <td>10:09</td>\n",
       "    </tr>\n",
       "  </tbody>\n",
       "</table>\n",
       "</div>"
      ],
      "text/plain": [
       "         공급일자 요일  공급월 공급주차        회원번호 조합원상태 물품대분류  물품중분류     물품소분류  \\\n",
       "0  2018-01-02  화    1  1차수   272369856  정상회원    과실     과일        사과   \n",
       "1  2018-01-02  화    1  1차수  1506656256  정상회원    채소     버섯     느타리버섯   \n",
       "2  2018-01-02  화    1  1차수  1506656256  정상회원   축산물      알       유정란   \n",
       "3  2018-01-02  화    1  1차수  1023108864  정상회원    반찬  두부/유부        두부   \n",
       "4  2018-01-02  화    1  1차수  1476143616  정상회원    간식      빵  식빵, 식사대용   \n",
       "\n",
       "                물품명  구매수량 주소-구  주소-동 성별    연령    연령대   구매금액 구매매장  반품_원거래일자  \\\n",
       "0       사과/유(1.5kg)   1.0  수지구  풍덕천동  여  45.0    40대  22207  매장C       NaN   \n",
       "1       느타리버섯(300g)   1.0  수지구  풍덕천동  여  36.0  30대이하   4977  매장C       NaN   \n",
       "2  유정란/매장용(10알/국내산)   1.0  수지구  풍덕천동  여  36.0  30대이하   7083  매장C       NaN   \n",
       "3         연두부(100g)   1.0  수지구  풍덕천동  여  36.0  30대이하    766  매장C       NaN   \n",
       "4   아침빵(240g/8개)/매장   1.0  수지구  풍덕천동  여  34.0  30대이하   4403  매장C       NaN   \n",
       "\n",
       "    구매시각  \n",
       "0  10:04  \n",
       "1  10:05  \n",
       "2  10:05  \n",
       "3  10:08  \n",
       "4  10:09  "
      ]
     },
     "execution_count": 24,
     "metadata": {},
     "output_type": "execute_result"
    }
   ],
   "source": [
    "df.head(5)"
   ]
  },
  {
   "cell_type": "markdown",
   "metadata": {},
   "source": [
    "#### 15. 2_data.csv 데이터의 \"성별\"을 replace 함수를 이용하여, '남성'은 1, '여성'은 0으로 데이터를 변환하시오"
   ]
  },
  {
   "cell_type": "code",
   "execution_count": 25,
   "metadata": {},
   "outputs": [
    {
     "data": {
      "text/html": [
       "<div>\n",
       "<style scoped>\n",
       "    .dataframe tbody tr th:only-of-type {\n",
       "        vertical-align: middle;\n",
       "    }\n",
       "\n",
       "    .dataframe tbody tr th {\n",
       "        vertical-align: top;\n",
       "    }\n",
       "\n",
       "    .dataframe thead th {\n",
       "        text-align: right;\n",
       "    }\n",
       "</style>\n",
       "<table border=\"1\" class=\"dataframe\">\n",
       "  <thead>\n",
       "    <tr style=\"text-align: right;\">\n",
       "      <th></th>\n",
       "      <th>공급일자</th>\n",
       "      <th>요일</th>\n",
       "      <th>공급월</th>\n",
       "      <th>공급주차</th>\n",
       "      <th>회원번호</th>\n",
       "      <th>조합원상태</th>\n",
       "      <th>물품대분류</th>\n",
       "      <th>물품중분류</th>\n",
       "      <th>물품소분류</th>\n",
       "      <th>물품명</th>\n",
       "      <th>구매수량</th>\n",
       "      <th>주소-구</th>\n",
       "      <th>주소-동</th>\n",
       "      <th>성별</th>\n",
       "      <th>연령</th>\n",
       "      <th>연령대</th>\n",
       "      <th>구매금액</th>\n",
       "      <th>구매매장</th>\n",
       "      <th>반품_원거래일자</th>\n",
       "      <th>구매시각</th>\n",
       "    </tr>\n",
       "  </thead>\n",
       "  <tbody>\n",
       "    <tr>\n",
       "      <th>0</th>\n",
       "      <td>2018-01-02</td>\n",
       "      <td>화</td>\n",
       "      <td>1</td>\n",
       "      <td>1차수</td>\n",
       "      <td>272369856</td>\n",
       "      <td>정상회원</td>\n",
       "      <td>과실</td>\n",
       "      <td>과일</td>\n",
       "      <td>사과</td>\n",
       "      <td>사과/유(1.5kg)</td>\n",
       "      <td>1.0</td>\n",
       "      <td>수지구</td>\n",
       "      <td>풍덕천동</td>\n",
       "      <td>0</td>\n",
       "      <td>45.0</td>\n",
       "      <td>40대</td>\n",
       "      <td>22207</td>\n",
       "      <td>매장C</td>\n",
       "      <td>NaN</td>\n",
       "      <td>10:04</td>\n",
       "    </tr>\n",
       "    <tr>\n",
       "      <th>1</th>\n",
       "      <td>2018-01-02</td>\n",
       "      <td>화</td>\n",
       "      <td>1</td>\n",
       "      <td>1차수</td>\n",
       "      <td>1506656256</td>\n",
       "      <td>정상회원</td>\n",
       "      <td>채소</td>\n",
       "      <td>버섯</td>\n",
       "      <td>느타리버섯</td>\n",
       "      <td>느타리버섯(300g)</td>\n",
       "      <td>1.0</td>\n",
       "      <td>수지구</td>\n",
       "      <td>풍덕천동</td>\n",
       "      <td>0</td>\n",
       "      <td>36.0</td>\n",
       "      <td>30대이하</td>\n",
       "      <td>4977</td>\n",
       "      <td>매장C</td>\n",
       "      <td>NaN</td>\n",
       "      <td>10:05</td>\n",
       "    </tr>\n",
       "    <tr>\n",
       "      <th>2</th>\n",
       "      <td>2018-01-02</td>\n",
       "      <td>화</td>\n",
       "      <td>1</td>\n",
       "      <td>1차수</td>\n",
       "      <td>1506656256</td>\n",
       "      <td>정상회원</td>\n",
       "      <td>축산물</td>\n",
       "      <td>알</td>\n",
       "      <td>유정란</td>\n",
       "      <td>유정란/매장용(10알/국내산)</td>\n",
       "      <td>1.0</td>\n",
       "      <td>수지구</td>\n",
       "      <td>풍덕천동</td>\n",
       "      <td>0</td>\n",
       "      <td>36.0</td>\n",
       "      <td>30대이하</td>\n",
       "      <td>7083</td>\n",
       "      <td>매장C</td>\n",
       "      <td>NaN</td>\n",
       "      <td>10:05</td>\n",
       "    </tr>\n",
       "    <tr>\n",
       "      <th>3</th>\n",
       "      <td>2018-01-02</td>\n",
       "      <td>화</td>\n",
       "      <td>1</td>\n",
       "      <td>1차수</td>\n",
       "      <td>1023108864</td>\n",
       "      <td>정상회원</td>\n",
       "      <td>반찬</td>\n",
       "      <td>두부/유부</td>\n",
       "      <td>두부</td>\n",
       "      <td>연두부(100g)</td>\n",
       "      <td>1.0</td>\n",
       "      <td>수지구</td>\n",
       "      <td>풍덕천동</td>\n",
       "      <td>0</td>\n",
       "      <td>36.0</td>\n",
       "      <td>30대이하</td>\n",
       "      <td>766</td>\n",
       "      <td>매장C</td>\n",
       "      <td>NaN</td>\n",
       "      <td>10:08</td>\n",
       "    </tr>\n",
       "    <tr>\n",
       "      <th>4</th>\n",
       "      <td>2018-01-02</td>\n",
       "      <td>화</td>\n",
       "      <td>1</td>\n",
       "      <td>1차수</td>\n",
       "      <td>1476143616</td>\n",
       "      <td>정상회원</td>\n",
       "      <td>간식</td>\n",
       "      <td>빵</td>\n",
       "      <td>식빵, 식사대용</td>\n",
       "      <td>아침빵(240g/8개)/매장</td>\n",
       "      <td>1.0</td>\n",
       "      <td>수지구</td>\n",
       "      <td>풍덕천동</td>\n",
       "      <td>0</td>\n",
       "      <td>34.0</td>\n",
       "      <td>30대이하</td>\n",
       "      <td>4403</td>\n",
       "      <td>매장C</td>\n",
       "      <td>NaN</td>\n",
       "      <td>10:09</td>\n",
       "    </tr>\n",
       "  </tbody>\n",
       "</table>\n",
       "</div>"
      ],
      "text/plain": [
       "         공급일자 요일  공급월 공급주차        회원번호 조합원상태 물품대분류  물품중분류     물품소분류  \\\n",
       "0  2018-01-02  화    1  1차수   272369856  정상회원    과실     과일        사과   \n",
       "1  2018-01-02  화    1  1차수  1506656256  정상회원    채소     버섯     느타리버섯   \n",
       "2  2018-01-02  화    1  1차수  1506656256  정상회원   축산물      알       유정란   \n",
       "3  2018-01-02  화    1  1차수  1023108864  정상회원    반찬  두부/유부        두부   \n",
       "4  2018-01-02  화    1  1차수  1476143616  정상회원    간식      빵  식빵, 식사대용   \n",
       "\n",
       "                물품명  구매수량 주소-구  주소-동 성별    연령    연령대   구매금액 구매매장  반품_원거래일자  \\\n",
       "0       사과/유(1.5kg)   1.0  수지구  풍덕천동  0  45.0    40대  22207  매장C       NaN   \n",
       "1       느타리버섯(300g)   1.0  수지구  풍덕천동  0  36.0  30대이하   4977  매장C       NaN   \n",
       "2  유정란/매장용(10알/국내산)   1.0  수지구  풍덕천동  0  36.0  30대이하   7083  매장C       NaN   \n",
       "3         연두부(100g)   1.0  수지구  풍덕천동  0  36.0  30대이하    766  매장C       NaN   \n",
       "4   아침빵(240g/8개)/매장   1.0  수지구  풍덕천동  0  34.0  30대이하   4403  매장C       NaN   \n",
       "\n",
       "    구매시각  \n",
       "0  10:04  \n",
       "1  10:05  \n",
       "2  10:05  \n",
       "3  10:08  \n",
       "4  10:09  "
      ]
     },
     "execution_count": 25,
     "metadata": {},
     "output_type": "execute_result"
    }
   ],
   "source": [
    "df['성별'] = df['성별'].replace('남', '1')\n",
    "df['성별'] = df['성별'].replace('여', '0')\n",
    "df.head(5)"
   ]
  },
  {
   "cell_type": "markdown",
   "metadata": {},
   "source": [
    "#### 16. 만약 본인이 동천마켓의 CEO라면 어떤 데이터 분석을 실시하겠습니까? \n",
    "5가지만 요약해서 작성해 주세요"
   ]
  },
  {
   "cell_type": "markdown",
   "metadata": {},
   "source": [
    "1. 조합원상태별 구매물품 종류 및 구매 수량을 분석한다. 정상회원과 탈퇴회원간 주로 구매하는 물품과 구매수량의 차이가 있을 경우, 회원 상태별로 판매 전략을 차별화한다.\n",
    "\n",
    "\n",
    "2. 구매 매장별로 구매수량과 구매금액이 큰 연령대를 분석한다. 구매수량과 구매금액이 큰 연령대를 주 타겟 고객층으로 하여, 매장별로 주 타겟 고객층에 맞는 판매 전략을 수립한다.\n",
    "\n",
    "\n",
    "3. 구매시각 변수와 물품분류, 물품명 변수로 시간대별 많이 판매되는 물품을 분석한다. 분석결과를 활용하여 시간대별 판매량에 따라 물품의 공급량을 계획한다.\n",
    "\n",
    "\n",
    "4. 구매 매장별로 구매수량과 구매금액이 많은 물품을 분석한다. 매장별 주 판매 물품을 도출하여 각 매장에 맞게 해당 물품의 공급량을 조절하고 판매 전략을 수립한다.\n",
    "\n",
    "\n",
    "5. 주소 변수와 연령 변수를 이용하여 지역별, 연령별 정상회원 비율과 탈퇴회원 비율을 확인한다. 탈퇴회원 비율이 높은 지역 주변의 매장과 탈퇴회원 비율이 높은 연령대의 구매비율이 높은 매장에 회원가입을 촉진하는 마케팅 전략을 수립한다.\n"
   ]
  }
 ],
 "metadata": {
  "kernelspec": {
   "display_name": "Python 3",
   "language": "python",
   "name": "python3"
  },
  "language_info": {
   "codemirror_mode": {
    "name": "ipython",
    "version": 3
   },
   "file_extension": ".py",
   "mimetype": "text/x-python",
   "name": "python",
   "nbconvert_exporter": "python",
   "pygments_lexer": "ipython3",
   "version": "3.7.4"
  },
  "toc": {
   "base_numbering": 1,
   "nav_menu": {},
   "number_sections": true,
   "sideBar": true,
   "skip_h1_title": false,
   "title_cell": "Table of Contents",
   "title_sidebar": "Contents",
   "toc_cell": false,
   "toc_position": {},
   "toc_section_display": true,
   "toc_window_display": false
  }
 },
 "nbformat": 4,
 "nbformat_minor": 2
}
